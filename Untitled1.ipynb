{
 "cells": [
  {
   "cell_type": "code",
   "execution_count": 1,
   "id": "fb129090-1050-4ee3-b0b5-28026202adfc",
   "metadata": {},
   "outputs": [],
   "source": [
    "import tensorflow as tf\n",
    "import numpy as np\n",
    "import pickle\n",
    "import json\n",
    "from tensorflow import keras"
   ]
  },
  {
   "cell_type": "code",
   "execution_count": 2,
   "id": "f8cd035c-f008-4a44-8f2a-b62072ffe445",
   "metadata": {},
   "outputs": [
    {
     "name": "stdout",
     "output_type": "stream",
     "text": [
      "WARNING:tensorflow:From C:\\Users\\naman\\AppData\\Local\\Temp\\ipykernel_23664\\1257555393.py:2: experimental_run_functions_eagerly (from tensorflow.python.eager.def_function) is deprecated and will be removed in a future version.\n",
      "Instructions for updating:\n",
      "Use `tf.config.run_functions_eagerly` instead of the experimental version.\n"
     ]
    }
   ],
   "source": [
    "tf.compat.v1.disable_eager_execution()\n",
    "tf.config.experimental_run_functions_eagerly(True)"
   ]
  },
  {
   "cell_type": "code",
   "execution_count": 22,
   "id": "eac71bf0-f3c4-460a-8c05-426c5f46e9c0",
   "metadata": {},
   "outputs": [],
   "source": [
    "class TransformerEncoder:\n",
    "    \n",
    "    def __new__(self, vocab_size, seq_len, emb_dim, linear_layers_hidden_dim, ffn_hiiden_dim):\n",
    "        self.output = None\n",
    "        # Positional Embeddings calculation\n",
    "        linear_layers_hidden_dim = emb_dim\n",
    "        def sin_positions(pos):\n",
    "            t = tf.multiply(tf.constant(2, dtype=tf.float32), tf.range(0, emb_dim, dtype=tf.float32))\n",
    "            t1 = tf.pow(tf.constant(10000, dtype=tf.float32), tf.divide(t, emb_dim))\n",
    "            position_tensor = tf.fill([1, emb_dim], pos)\n",
    "            sin_fun_input = tf.divide(position_tensor, t1)\n",
    "            sin_output = tf.sin(sin_fun_input)\n",
    "            return sin_output\n",
    "\n",
    "        def cos_positions(pos):\n",
    "            t = tf.multiply(tf.constant(2, dtype=tf.float32), tf.range(0, emb_dim, dtype=tf.float32))\n",
    "            t1 = tf.pow(tf.constant(10000, dtype=tf.float32), tf.divide(t, emb_dim))\n",
    "            position_tensor = tf.fill([1, emb_dim], pos)\n",
    "            sin_fun_input = tf.divide(position_tensor, t1)\n",
    "            cos_output = tf.cos(sin_fun_input)\n",
    "            return cos_output\n",
    "        \n",
    "        positonal_embeddings = tf.reshape(\n",
    "            tf.map_fn(\n",
    "                lambda pos: tf.cond(\n",
    "                    tf.equal(\n",
    "                        tf.experimental.numpy.mod(pos,2),0),\n",
    "                    lambda : sin_positions(pos),\n",
    "                    lambda : cos_positions(pos)),\n",
    "                tf.range(seq_len, dtype=tf.float32)),\n",
    "            shape=(seq_len,emb_dim))\n",
    "        \n",
    "        # start of embedding graph\n",
    "        # input_data : signature = [1,2]\n",
    "        input_data = tf.compat.v1.placeholder(dtype=tf.int32, shape=(1, seq_len), name='firstInputPlaceholder')\n",
    "        one_hot_encoded = tf.one_hot(input_data, dtype=tf.float32, depth=vocab_size)\n",
    "        \n",
    "\n",
    "        @tf.function\n",
    "        def get_embeddings(input_word):\n",
    "            w1 = tf.Variable(tf.random.normal(shape=(vocab_size, emb_dim)), dtype=tf.float32, name='w1')\n",
    "            b1 = tf.Variable(tf.constant(0.1, shape=(1, emb_dim), dtype=tf.float32), name='b1')\n",
    "            y1 = tf.add(tf.matmul(input_word, w1), b1)\n",
    "            return y1\n",
    "        \n",
    "        for word in tf.unstack(one_hot_encoded):\n",
    "            # print(word.eval(session=sess, feed_dict={input_data:np.asarray([1,2,3,4,5]).reshape((1,5))}))\n",
    "            embeddings = get_embeddings(one_hot_encoded)\n",
    "        \n",
    "        positional_out = tf.add(positonal_embeddings, embeddings)\n",
    "        # init_op = tf.compat.v1.global_variables_initializer()\n",
    "        # sess.run(init_op)\n",
    "        # # end of embedding graph\n",
    "        # return positonal_embeddings,embeddings, input_data\n",
    "        #value linear layer\n",
    "        @tf.function\n",
    "        def multihead():\n",
    "            w1_v = tf.Variable(tf.random.normal(shape=(emb_dim, linear_layers_hidden_dim), dtype=tf.float32), name='w1_v')\n",
    "            b1_v = tf.Variable(tf.constant(0.1, shape=(1, linear_layers_hidden_dim), dtype=tf.float32), name='b1_v')\n",
    "            y1_v = tf.squeeze(tf.add(tf.matmul(positional_out, w1_v), b1_v))\n",
    "\n",
    "            #key linear layer\n",
    "\n",
    "            w1_k = tf.Variable(tf.random.normal(shape=(emb_dim, linear_layers_hidden_dim), dtype=tf.float32), name='w1_k')\n",
    "            b1_k = tf.Variable(tf.constant(0.1, shape=(1, linear_layers_hidden_dim), dtype=tf.float32), name='b1_k')\n",
    "            y1_k = tf.squeeze(tf.add(tf.matmul(positional_out, w1_k), b1_k))\n",
    "            #query linear layer\n",
    "            \n",
    "            w1_q = tf.Variable(tf.random.normal(shape=(emb_dim, linear_layers_hidden_dim), dtype=tf.float32), name='w1_q')\n",
    "            b1_q = tf.Variable(tf.constant(0.1, shape=(1, linear_layers_hidden_dim), dtype=tf.float32), name='b1_q')\n",
    "            y1_q = tf.squeeze(tf.add(tf.matmul(positional_out, w1_q), b1_q))\n",
    "            \n",
    "            transposed_key_mat = tf.transpose(y1_k, name='key_transpose_op')\n",
    "          \n",
    "            attention_filter = tf.divide(tf.matmul(y1_q, transposed_key_mat), tf.sqrt(tf.constant(emb_dim, dtype=tf.float32)), name='attention_filter')\n",
    "            softmaxed_attention_filter = tf.nn.softmax(attention_filter, name='softmax_of_attention_filter')\n",
    "            final_output_of_one_head = tf.matmul(softmaxed_attention_filter, y1_v, name='final_matmul')\n",
    "   \n",
    "            # final linear layer\n",
    "      \n",
    "            w1_final = tf.Variable(tf.random.normal(shape=(linear_layers_hidden_dim, emb_dim), dtype=tf.float32), name='w1_final')\n",
    "            b1_final = tf.Variable(tf.constant(0.1, shape=(1, emb_dim), dtype=tf.float32), name='b1_final')\n",
    "            y1_final = tf.add(tf.matmul(final_output_of_one_head, w1_final), b1_final)\n",
    "\n",
    "            # now onto add and norm layer\n",
    "            \n",
    "            add_op = tf.squeeze(tf.add(positional_out,final_output_of_one_head))\n",
    "            meaned_output = tf.reduce_mean(y1_final, axis=1)\n",
    "            std_output = tf.math.reduce_std(y1_final, axis=0)\n",
    "            x0 = tf.transpose(tf.subtract(tf.transpose(add_op), meaned_output))\n",
    "            divisor = tf.sqrt(tf.add(std_output, tf.constant(0.001, dtype=tf.float32)))\n",
    "            res = tf.divide(x0, divisor)\n",
    "            # finsish add and norm layer\n",
    "\n",
    "            #feed forward network\n",
    "           \n",
    "            w1_ffn = tf.Variable(tf.random.normal(shape=(emb_dim, ffn_hiiden_dim), dtype=tf.float32), name='w1_ffn')\n",
    "            b1_ffn = tf.Variable(tf.constant(0.1, shape=(1, ffn_hiiden_dim), dtype=tf.float32), name='b1_ffn')\n",
    "            y1_ffn = tf.nn.relu(tf.add(tf.matmul(res, w1_ffn), b1_ffn))\n",
    "            w2_ffn = tf.Variable(tf.random.normal(shape=(ffn_hiiden_dim, emb_dim), dtype=tf.float32), name='w2_ffn')\n",
    "            b2_ffn = tf.Variable(tf.constant(0.1, shape=(1, emb_dim), dtype=tf.float32), name='b2_ffn')\n",
    "            y2_ffn = tf.add(tf.matmul(y1_ffn, w2_ffn), b2_ffn)\n",
    "            #end of feed forward neural network\n",
    "            \n",
    "            #now onto final add and norm layer\n",
    "            add_op_final = tf.add(res,y2_ffn)\n",
    "            \n",
    "            meaned_output_final = tf.reduce_mean(y2_ffn, axis=1)\n",
    "\n",
    "            std_output_final = tf.math.reduce_std(y2_ffn, axis=0)\n",
    "            x0_final = tf.transpose(tf.subtract(tf.transpose(add_op_final), meaned_output_final))\n",
    "            divisor_final = tf.sqrt(tf.add(std_output_final, tf.constant(0.001, dtype=tf.float32)))\n",
    "            res_final = tf.divide(x0_final, divisor_final)\n",
    "        \n",
    "            return res_final\n",
    "        # self.output = multihead()\n",
    "        #here multhead attention finishes\n",
    "        sess = tf.compat.v1.Session()\n",
    "        init_op = tf.compat.v1.global_variables_initializer()\n",
    "        sess.run(init_op)\n",
    "        return multihead(), input_data, embeddings\n",
    "\n",
    "        "
   ]
  },
  {
   "cell_type": "code",
   "execution_count": 23,
   "id": "6cbfe3e9-968e-4280-b61a-e5df34e5bf88",
   "metadata": {
    "scrolled": true,
    "tags": []
   },
   "outputs": [],
   "source": [
    "out, holder, embedding = TransformerEncoder(15, 10, 128, 128, 512)\n"
   ]
  },
  {
   "cell_type": "code",
   "execution_count": 25,
   "id": "20bec29f-20ff-4dc6-bf96-df1693963741",
   "metadata": {},
   "outputs": [
    {
     "data": {
      "text/plain": [
       "array([[[-1.4696066 ,  1.9080708 ,  0.9075946 , ...,  0.81832033,\n",
       "          1.0466439 ,  0.28890732],\n",
       "        [ 1.0424279 ,  0.16259217, -0.52834135, ..., -0.5950238 ,\n",
       "         -0.91746557,  0.45526996],\n",
       "        [-0.8551964 , -0.86427987, -0.04784972, ...,  1.0076314 ,\n",
       "         -1.2284333 , -0.91066194],\n",
       "        ...,\n",
       "        [ 1.3907139 ,  1.7300473 ,  0.20240341, ...,  0.7356294 ,\n",
       "          0.31889895, -0.28445226],\n",
       "        [ 0.24272463,  0.3607143 , -1.849495  , ..., -0.4638681 ,\n",
       "          1.8234367 ,  0.10002705],\n",
       "        [ 0.5773654 , -0.12123889, -0.03049617, ...,  0.02164038,\n",
       "          1.3675106 , -0.35029954]]], dtype=float32)"
      ]
     },
     "execution_count": 25,
     "metadata": {},
     "output_type": "execute_result"
    }
   ],
   "source": [
    "sess = tf.compat.v1.Session()\n",
    "init_op = tf.compat.v1.global_variables_initializer()\n",
    "sess.run(init_op)\n",
    "embedding.eval(session=sess, feed_dict={holder:X})"
   ]
  },
  {
   "cell_type": "code",
   "execution_count": 47,
   "id": "ba62d205-ed0a-424f-b74a-6209ed8a4f0e",
   "metadata": {
    "scrolled": true,
    "tags": []
   },
   "outputs": [
    {
     "ename": "TypeError",
     "evalue": "Cannot interpret feed_dict key as Tensor: Tensor Tensor(\"firstInputPlaceholder_1:0\", shape=(1, 10), dtype=int32) is not an element of this graph.",
     "output_type": "error",
     "traceback": [
      "\u001b[1;31m---------------------------------------------------------------------------\u001b[0m",
      "\u001b[1;31mValueError\u001b[0m                                Traceback (most recent call last)",
      "File \u001b[1;32mD:\\Transformers Implementation\\English to Hindi\\transformers\\lib\\site-packages\\tensorflow\\python\\client\\session.py:1132\u001b[0m, in \u001b[0;36mBaseSession._run\u001b[1;34m(self, handle, fetches, feed_dict, options, run_metadata)\u001b[0m\n\u001b[0;32m   1131\u001b[0m \u001b[38;5;28;01mtry\u001b[39;00m:\n\u001b[1;32m-> 1132\u001b[0m   subfeed_t \u001b[38;5;241m=\u001b[39m \u001b[38;5;28;43mself\u001b[39;49m\u001b[38;5;241;43m.\u001b[39;49m\u001b[43mgraph\u001b[49m\u001b[38;5;241;43m.\u001b[39;49m\u001b[43mas_graph_element\u001b[49m\u001b[43m(\u001b[49m\n\u001b[0;32m   1133\u001b[0m \u001b[43m      \u001b[49m\u001b[43msubfeed\u001b[49m\u001b[43m,\u001b[49m\u001b[43m \u001b[49m\u001b[43mallow_tensor\u001b[49m\u001b[38;5;241;43m=\u001b[39;49m\u001b[38;5;28;43;01mTrue\u001b[39;49;00m\u001b[43m,\u001b[49m\u001b[43m \u001b[49m\u001b[43mallow_operation\u001b[49m\u001b[38;5;241;43m=\u001b[39;49m\u001b[38;5;28;43;01mFalse\u001b[39;49;00m\u001b[43m)\u001b[49m\n\u001b[0;32m   1134\u001b[0m \u001b[38;5;28;01mexcept\u001b[39;00m \u001b[38;5;167;01mException\u001b[39;00m \u001b[38;5;28;01mas\u001b[39;00m e:\n",
      "File \u001b[1;32mD:\\Transformers Implementation\\English to Hindi\\transformers\\lib\\site-packages\\tensorflow\\python\\framework\\ops.py:3998\u001b[0m, in \u001b[0;36mGraph.as_graph_element\u001b[1;34m(self, obj, allow_tensor, allow_operation)\u001b[0m\n\u001b[0;32m   3997\u001b[0m \u001b[38;5;28;01mwith\u001b[39;00m \u001b[38;5;28mself\u001b[39m\u001b[38;5;241m.\u001b[39m_lock:\n\u001b[1;32m-> 3998\u001b[0m   \u001b[38;5;28;01mreturn\u001b[39;00m \u001b[38;5;28;43mself\u001b[39;49m\u001b[38;5;241;43m.\u001b[39;49m\u001b[43m_as_graph_element_locked\u001b[49m\u001b[43m(\u001b[49m\u001b[43mobj\u001b[49m\u001b[43m,\u001b[49m\u001b[43m \u001b[49m\u001b[43mallow_tensor\u001b[49m\u001b[43m,\u001b[49m\u001b[43m \u001b[49m\u001b[43mallow_operation\u001b[49m\u001b[43m)\u001b[49m\n",
      "File \u001b[1;32mD:\\Transformers Implementation\\English to Hindi\\transformers\\lib\\site-packages\\tensorflow\\python\\framework\\ops.py:4077\u001b[0m, in \u001b[0;36mGraph._as_graph_element_locked\u001b[1;34m(self, obj, allow_tensor, allow_operation)\u001b[0m\n\u001b[0;32m   4076\u001b[0m \u001b[38;5;28;01mif\u001b[39;00m obj\u001b[38;5;241m.\u001b[39mgraph \u001b[38;5;129;01mis\u001b[39;00m \u001b[38;5;129;01mnot\u001b[39;00m \u001b[38;5;28mself\u001b[39m:\n\u001b[1;32m-> 4077\u001b[0m   \u001b[38;5;28;01mraise\u001b[39;00m \u001b[38;5;167;01mValueError\u001b[39;00m(\u001b[38;5;124m\"\u001b[39m\u001b[38;5;124mTensor \u001b[39m\u001b[38;5;132;01m%s\u001b[39;00m\u001b[38;5;124m is not an element of this graph.\u001b[39m\u001b[38;5;124m\"\u001b[39m \u001b[38;5;241m%\u001b[39m obj)\n\u001b[0;32m   4078\u001b[0m \u001b[38;5;28;01mreturn\u001b[39;00m obj\n",
      "\u001b[1;31mValueError\u001b[0m: Tensor Tensor(\"firstInputPlaceholder_1:0\", shape=(1, 10), dtype=int32) is not an element of this graph.",
      "\nDuring handling of the above exception, another exception occurred:\n",
      "\u001b[1;31mTypeError\u001b[0m                                 Traceback (most recent call last)",
      "Input \u001b[1;32mIn [47]\u001b[0m, in \u001b[0;36m<cell line: 1>\u001b[1;34m()\u001b[0m\n\u001b[0;32m      3\u001b[0m init_op \u001b[38;5;241m=\u001b[39m tf\u001b[38;5;241m.\u001b[39mcompat\u001b[38;5;241m.\u001b[39mv1\u001b[38;5;241m.\u001b[39mglobal_variables_initializer()\n\u001b[0;32m      4\u001b[0m sess\u001b[38;5;241m.\u001b[39mrun(init_op)\n\u001b[1;32m----> 5\u001b[0m \u001b[38;5;28mprint\u001b[39m(\u001b[43msess\u001b[49m\u001b[38;5;241;43m.\u001b[39;49m\u001b[43mrun\u001b[49m\u001b[43m(\u001b[49m\u001b[43mout\u001b[49m\u001b[43m,\u001b[49m\u001b[43m \u001b[49m\u001b[43mfeed_dict\u001b[49m\u001b[38;5;241;43m=\u001b[39;49m\u001b[43m{\u001b[49m\u001b[43mholder\u001b[49m\u001b[43m:\u001b[49m\u001b[43mX\u001b[49m\u001b[43m}\u001b[49m\u001b[43m)\u001b[49m)\n\u001b[0;32m      6\u001b[0m writer\u001b[38;5;241m.\u001b[39mclose()\n",
      "File \u001b[1;32mD:\\Transformers Implementation\\English to Hindi\\transformers\\lib\\site-packages\\tensorflow\\python\\client\\session.py:968\u001b[0m, in \u001b[0;36mBaseSession.run\u001b[1;34m(self, fetches, feed_dict, options, run_metadata)\u001b[0m\n\u001b[0;32m    965\u001b[0m run_metadata_ptr \u001b[38;5;241m=\u001b[39m tf_session\u001b[38;5;241m.\u001b[39mTF_NewBuffer() \u001b[38;5;28;01mif\u001b[39;00m run_metadata \u001b[38;5;28;01melse\u001b[39;00m \u001b[38;5;28;01mNone\u001b[39;00m\n\u001b[0;32m    967\u001b[0m \u001b[38;5;28;01mtry\u001b[39;00m:\n\u001b[1;32m--> 968\u001b[0m   result \u001b[38;5;241m=\u001b[39m \u001b[38;5;28;43mself\u001b[39;49m\u001b[38;5;241;43m.\u001b[39;49m\u001b[43m_run\u001b[49m\u001b[43m(\u001b[49m\u001b[38;5;28;43;01mNone\u001b[39;49;00m\u001b[43m,\u001b[49m\u001b[43m \u001b[49m\u001b[43mfetches\u001b[49m\u001b[43m,\u001b[49m\u001b[43m \u001b[49m\u001b[43mfeed_dict\u001b[49m\u001b[43m,\u001b[49m\u001b[43m \u001b[49m\u001b[43moptions_ptr\u001b[49m\u001b[43m,\u001b[49m\n\u001b[0;32m    969\u001b[0m \u001b[43m                     \u001b[49m\u001b[43mrun_metadata_ptr\u001b[49m\u001b[43m)\u001b[49m\n\u001b[0;32m    970\u001b[0m   \u001b[38;5;28;01mif\u001b[39;00m run_metadata:\n\u001b[0;32m    971\u001b[0m     proto_data \u001b[38;5;241m=\u001b[39m tf_session\u001b[38;5;241m.\u001b[39mTF_GetBuffer(run_metadata_ptr)\n",
      "File \u001b[1;32mD:\\Transformers Implementation\\English to Hindi\\transformers\\lib\\site-packages\\tensorflow\\python\\client\\session.py:1135\u001b[0m, in \u001b[0;36mBaseSession._run\u001b[1;34m(self, handle, fetches, feed_dict, options, run_metadata)\u001b[0m\n\u001b[0;32m   1132\u001b[0m   subfeed_t \u001b[38;5;241m=\u001b[39m \u001b[38;5;28mself\u001b[39m\u001b[38;5;241m.\u001b[39mgraph\u001b[38;5;241m.\u001b[39mas_graph_element(\n\u001b[0;32m   1133\u001b[0m       subfeed, allow_tensor\u001b[38;5;241m=\u001b[39m\u001b[38;5;28;01mTrue\u001b[39;00m, allow_operation\u001b[38;5;241m=\u001b[39m\u001b[38;5;28;01mFalse\u001b[39;00m)\n\u001b[0;32m   1134\u001b[0m \u001b[38;5;28;01mexcept\u001b[39;00m \u001b[38;5;167;01mException\u001b[39;00m \u001b[38;5;28;01mas\u001b[39;00m e:\n\u001b[1;32m-> 1135\u001b[0m   \u001b[38;5;28;01mraise\u001b[39;00m \u001b[38;5;167;01mTypeError\u001b[39;00m(\n\u001b[0;32m   1136\u001b[0m       \u001b[38;5;124mf\u001b[39m\u001b[38;5;124m'\u001b[39m\u001b[38;5;124mCannot interpret feed_dict key as Tensor: \u001b[39m\u001b[38;5;132;01m{\u001b[39;00me\u001b[38;5;241m.\u001b[39margs[\u001b[38;5;241m0\u001b[39m]\u001b[38;5;132;01m}\u001b[39;00m\u001b[38;5;124m'\u001b[39m)\n\u001b[0;32m   1138\u001b[0m \u001b[38;5;28;01mif\u001b[39;00m \u001b[38;5;28misinstance\u001b[39m(subfeed_val, ops\u001b[38;5;241m.\u001b[39mTensor):\n\u001b[0;32m   1139\u001b[0m   \u001b[38;5;28;01mraise\u001b[39;00m \u001b[38;5;167;01mTypeError\u001b[39;00m(\n\u001b[0;32m   1140\u001b[0m       \u001b[38;5;124m'\u001b[39m\u001b[38;5;124mThe value of a feed cannot be a tf.Tensor object. Acceptable \u001b[39m\u001b[38;5;124m'\u001b[39m\n\u001b[0;32m   1141\u001b[0m       \u001b[38;5;124m'\u001b[39m\u001b[38;5;124mfeed values include Python scalars, strings, lists, numpy \u001b[39m\u001b[38;5;124m'\u001b[39m\n\u001b[0;32m   1142\u001b[0m       \u001b[38;5;124m'\u001b[39m\u001b[38;5;124mndarrays, or TensorHandles. For reference, the tensor object \u001b[39m\u001b[38;5;124m'\u001b[39m\n\u001b[0;32m   1143\u001b[0m       \u001b[38;5;124mf\u001b[39m\u001b[38;5;124m'\u001b[39m\u001b[38;5;124mwas \u001b[39m\u001b[38;5;132;01m{\u001b[39;00m\u001b[38;5;28mstr\u001b[39m(feed_val)\u001b[38;5;132;01m}\u001b[39;00m\u001b[38;5;124m which was passed to the argument \u001b[39m\u001b[38;5;124m'\u001b[39m\n\u001b[0;32m   1144\u001b[0m       \u001b[38;5;124mf\u001b[39m\u001b[38;5;124m'\u001b[39m\u001b[38;5;124m`feed_dict` with key \u001b[39m\u001b[38;5;132;01m{\u001b[39;00m\u001b[38;5;28mstr\u001b[39m(feed)\u001b[38;5;132;01m}\u001b[39;00m\u001b[38;5;124m.\u001b[39m\u001b[38;5;124m'\u001b[39m)\n",
      "\u001b[1;31mTypeError\u001b[0m: Cannot interpret feed_dict key as Tensor: Tensor Tensor(\"firstInputPlaceholder_1:0\", shape=(1, 10), dtype=int32) is not an element of this graph."
     ]
    }
   ],
   "source": [
    "with tf.compat.v1.Session() as sess:\n",
    "    writer = tf.compat.v1.summary.FileWriter(\"output\", sess.graph)\n",
    "    init_op = tf.compat.v1.global_variables_initializer()\n",
    "    sess.run(init_op)\n",
    "    print(sess.run(out, feed_dict={holder:X}))\n",
    "    writer.close()"
   ]
  },
  {
   "cell_type": "code",
   "execution_count": 7,
   "id": "d10085bd-a648-4867-8ef8-5a3a8cee620c",
   "metadata": {},
   "outputs": [],
   "source": [
    "%load_ext tensorboard"
   ]
  },
  {
   "cell_type": "code",
   "execution_count": 9,
   "id": "b45707f5-ba6d-4ddf-aa1c-fa146b3c054b",
   "metadata": {},
   "outputs": [
    {
     "data": {
      "text/plain": [
       "Reusing TensorBoard on port 6006 (pid 15728), started 0:20:30 ago. (Use '!kill 15728' to kill it.)"
      ]
     },
     "metadata": {},
     "output_type": "display_data"
    },
    {
     "data": {
      "text/html": [
       "\n",
       "      <iframe id=\"tensorboard-frame-94cf5e12e0fd9cc7\" width=\"100%\" height=\"800\" frameborder=\"0\">\n",
       "      </iframe>\n",
       "      <script>\n",
       "        (function() {\n",
       "          const frame = document.getElementById(\"tensorboard-frame-94cf5e12e0fd9cc7\");\n",
       "          const url = new URL(\"/\", window.location);\n",
       "          const port = 6006;\n",
       "          if (port) {\n",
       "            url.port = port;\n",
       "          }\n",
       "          frame.src = url;\n",
       "        })();\n",
       "      </script>\n",
       "    "
      ],
      "text/plain": [
       "<IPython.core.display.HTML object>"
      ]
     },
     "metadata": {},
     "output_type": "display_data"
    }
   ],
   "source": [
    "%tensorboard --logdir=output"
   ]
  },
  {
   "cell_type": "code",
   "execution_count": 191,
   "id": "8b78bfd7-f4cc-4e60-8c34-bb5626c23c15",
   "metadata": {},
   "outputs": [],
   "source": [
    "out, holder = tr.built(15, 10, 128, 128, 512, X)"
   ]
  },
  {
   "cell_type": "code",
   "execution_count": 105,
   "id": "679fd202-3349-4c17-bdf7-d70ad8d20b24",
   "metadata": {
    "scrolled": true,
    "tags": []
   },
   "outputs": [
    {
     "ename": "NameError",
     "evalue": "name 'handler' is not defined",
     "output_type": "error",
     "traceback": [
      "\u001b[1;31m---------------------------------------------------------------------------\u001b[0m",
      "\u001b[1;31mNameError\u001b[0m                                 Traceback (most recent call last)",
      "Input \u001b[1;32mIn [105]\u001b[0m, in \u001b[0;36m<cell line: 1>\u001b[1;34m()\u001b[0m\n\u001b[1;32m----> 1\u001b[0m \u001b[43mhandler\u001b[49m\u001b[38;5;241m.\u001b[39meval(session\u001b[38;5;241m=\u001b[39msess, feed_dict\u001b[38;5;241m=\u001b[39m{holder:np\u001b[38;5;241m.\u001b[39masarray([\u001b[38;5;241m1\u001b[39m,\u001b[38;5;241m2\u001b[39m,\u001b[38;5;241m3\u001b[39m,\u001b[38;5;241m4\u001b[39m,\u001b[38;5;241m5\u001b[39m])\u001b[38;5;241m.\u001b[39mreshape((\u001b[38;5;241m1\u001b[39m,\u001b[38;5;241m5\u001b[39m))})\n",
      "\u001b[1;31mNameError\u001b[0m: name 'handler' is not defined"
     ]
    }
   ],
   "source": [
    "handler.eval(session=sess, feed_dict={holder:np.asarray([1,2,3,4,5]).reshape((1,5))})"
   ]
  },
  {
   "cell_type": "code",
   "execution_count": 106,
   "id": "5f435bb5-482c-4812-b57f-ab6a16ecc7b6",
   "metadata": {
    "scrolled": true,
    "tags": []
   },
   "outputs": [
    {
     "data": {
      "text/plain": [
       "array([[ 0.0000000e+00,  0.0000000e+00,  0.0000000e+00, ...,\n",
       "         0.0000000e+00,  0.0000000e+00,  0.0000000e+00],\n",
       "       [ 5.4030228e-01,  6.4790589e-01,  7.3176098e-01, ...,\n",
       "         1.0000000e+00,  1.0000000e+00,  1.0000000e+00],\n",
       "       [ 9.0929747e-01,  9.8704624e-01,  9.9747998e-01, ...,\n",
       "         3.0798532e-08,  2.6670428e-08,  2.3095639e-08],\n",
       "       ...,\n",
       "       [-2.7516335e-01, -5.5155450e-01,  9.8351431e-01, ...,\n",
       "         1.0000000e+00,  1.0000000e+00,  1.0000000e+00],\n",
       "       [-7.5098723e-01,  1.2031262e-01,  8.0264997e-01, ...,\n",
       "         2.7718679e-07,  2.4003384e-07,  2.0786075e-07],\n",
       "       [ 9.8870462e-01, -7.3484373e-01, -1.1059601e-01, ...,\n",
       "         1.0000000e+00,  1.0000000e+00,  1.0000000e+00]], dtype=float32)"
      ]
     },
     "execution_count": 106,
     "metadata": {},
     "output_type": "execute_result"
    }
   ],
   "source": [
    "pos.eval(session=sess)"
   ]
  },
  {
   "cell_type": "code",
   "execution_count": 18,
   "id": "5becd50a-b34b-4a7a-9102-616ab12c7e6d",
   "metadata": {},
   "outputs": [],
   "source": [
    "X = [1,2,3,4,5,6,7,8,9,10]\n",
    "X = np.asarray(X).reshape((1,10)\n",
    "                         )"
   ]
  },
  {
   "cell_type": "code",
   "execution_count": 20,
   "id": "5a366d38-7cbb-49d5-a9af-1f6310a34e0e",
   "metadata": {},
   "outputs": [],
   "source": [
    "sess = tf.compat.v1.Session()\n",
    "init_op = tf.compat.v1.global_variables_initializer()\n",
    "sess.run(init_op)"
   ]
  },
  {
   "cell_type": "code",
   "execution_count": 43,
   "id": "22dca365-dd1f-476e-bc95-86cf20fe24c8",
   "metadata": {},
   "outputs": [],
   "source": [
    "c_out = out.eval(session=sess, feed_dict={holder:X})"
   ]
  },
  {
   "cell_type": "code",
   "execution_count": 44,
   "id": "77a026d1-4af5-4ca1-ab1a-5728c69ec7ed",
   "metadata": {},
   "outputs": [
    {
     "data": {
      "text/plain": [
       "(10, 128)"
      ]
     },
     "execution_count": 44,
     "metadata": {},
     "output_type": "execute_result"
    }
   ],
   "source": [
    "c_out.shape"
   ]
  },
  {
   "cell_type": "code",
   "execution_count": 151,
   "id": "79ae70b1-224d-41ea-b83d-31f4ae4cac95",
   "metadata": {},
   "outputs": [
    {
     "data": {
      "text/plain": [
       "array([[ 0.0000000e+00,  0.0000000e+00,  0.0000000e+00, ...,\n",
       "         0.0000000e+00,  0.0000000e+00,  0.0000000e+00],\n",
       "       [ 5.4030228e-01,  6.4790589e-01,  7.3176098e-01, ...,\n",
       "         1.0000000e+00,  1.0000000e+00,  1.0000000e+00],\n",
       "       [ 9.0929747e-01,  9.8704624e-01,  9.9747998e-01, ...,\n",
       "         3.0798532e-08,  2.6670428e-08,  2.3095639e-08],\n",
       "       ...,\n",
       "       [ 7.5390226e-01,  9.7558331e-01,  5.1144928e-01, ...,\n",
       "         1.0000000e+00,  1.0000000e+00,  1.0000000e+00],\n",
       "       [ 9.8935825e-01,  6.0082245e-01, -2.8022808e-01, ...,\n",
       "         1.2319413e-07,  1.0668171e-07,  9.2382557e-08],\n",
       "       [-9.1113025e-01,  6.0265854e-02,  8.9343452e-01, ...,\n",
       "         1.0000000e+00,  1.0000000e+00,  1.0000000e+00]], dtype=float32)"
      ]
     },
     "execution_count": 151,
     "metadata": {},
     "output_type": "execute_result"
    }
   ],
   "source": [
    "pos.eval(session=sess, feed_dict={holder:X})"
   ]
  },
  {
   "cell_type": "code",
   "execution_count": 152,
   "id": "c8593081-9cdc-463f-9e1d-313a84c9f378",
   "metadata": {},
   "outputs": [
    {
     "data": {
      "text/plain": [
       "array([[[-0.36051607, -0.6507375 ,  0.19958362, ...,  0.56021494,\n",
       "          0.6281975 , -0.7530745 ],\n",
       "        [ 1.0986924 ,  1.3435943 ,  0.4430886 , ...,  1.3255457 ,\n",
       "          1.4328718 ,  0.94786626],\n",
       "        [ 0.29637915,  0.5022943 ,  0.85058844, ..., -0.27114278,\n",
       "         -0.3952589 ,  0.874855  ],\n",
       "        ...,\n",
       "        [ 1.7222933 , -0.37949288,  0.2599166 , ..., -0.9885903 ,\n",
       "         -0.44762188,  0.7457491 ],\n",
       "        [ 0.01793244,  0.30021048, -0.53921556, ...,  0.04576993,\n",
       "         -0.50101787,  1.2504057 ],\n",
       "        [ 1.1260698 ,  1.0498458 , -1.2470833 , ...,  0.3987416 ,\n",
       "         -0.25105578, -1.2317717 ]]], dtype=float32)"
      ]
     },
     "execution_count": 152,
     "metadata": {},
     "output_type": "execute_result"
    }
   ],
   "source": [
    "emb.eval(session=sess, feed_dict={holder:X})"
   ]
  },
  {
   "cell_type": "code",
   "execution_count": 153,
   "id": "3a19ae0e-0829-4a7a-a7b4-e0d363321a1c",
   "metadata": {},
   "outputs": [
    {
     "data": {
      "text/plain": [
       "array([[[0., 1., 0., 0., 0., 0., 0., 0., 0., 0., 0., 0., 0., 0., 0.],\n",
       "        [0., 0., 1., 0., 0., 0., 0., 0., 0., 0., 0., 0., 0., 0., 0.],\n",
       "        [0., 0., 0., 1., 0., 0., 0., 0., 0., 0., 0., 0., 0., 0., 0.],\n",
       "        [0., 0., 0., 0., 1., 0., 0., 0., 0., 0., 0., 0., 0., 0., 0.],\n",
       "        [0., 0., 0., 0., 0., 1., 0., 0., 0., 0., 0., 0., 0., 0., 0.],\n",
       "        [0., 0., 0., 0., 0., 0., 1., 0., 0., 0., 0., 0., 0., 0., 0.],\n",
       "        [0., 0., 0., 0., 0., 0., 0., 1., 0., 0., 0., 0., 0., 0., 0.],\n",
       "        [0., 0., 0., 0., 0., 0., 0., 0., 1., 0., 0., 0., 0., 0., 0.],\n",
       "        [0., 0., 0., 0., 0., 0., 0., 0., 0., 1., 0., 0., 0., 0., 0.],\n",
       "        [0., 0., 0., 0., 0., 0., 0., 0., 0., 0., 1., 0., 0., 0., 0.]]],\n",
       "      dtype=float32)"
      ]
     },
     "execution_count": 153,
     "metadata": {},
     "output_type": "execute_result"
    }
   ],
   "source": [
    "one_hot.eval(session=sess, feed_dict={holder:X})"
   ]
  },
  {
   "cell_type": "code",
   "execution_count": 114,
   "id": "eb219fe9-e788-48b6-9ba4-dcda4ab3772d",
   "metadata": {},
   "outputs": [
    {
     "data": {
      "text/plain": [
       "array([[[0., 1., 0.],\n",
       "        [0., 0., 1.],\n",
       "        [0., 0., 0.]]], dtype=float32)"
      ]
     },
     "execution_count": 114,
     "metadata": {},
     "output_type": "execute_result"
    }
   ],
   "source": [
    "tf.one_hot([[1,2,3]], depth=3).eval(session=sess)"
   ]
  },
  {
   "cell_type": "code",
   "execution_count": 4,
   "id": "f0ff47db-f53b-414e-8378-db8cc3c438de",
   "metadata": {},
   "outputs": [],
   "source": [
    "input_d = np.asarray([2, 3, 4, 10, 11, 12, 13, 14, 15, 16, 18, 899, 21, 22, 23, 24, 25, 28, 31, 899, 899, 34, 36, 37, 40, 41, 42, 44, 47, 67]).reshape((1,30))\n",
    "target = [5,35,8]\n",
    "mask_positions = np.asarray([11,19,20]).reshape((1,3))"
   ]
  },
  {
   "cell_type": "code",
   "execution_count": 5,
   "id": "b004b666-d3ba-4c53-a1e2-9ae05fd8999c",
   "metadata": {},
   "outputs": [],
   "source": [
    "import keras_nlp\n",
    "transformer_enc, inputs = TransformerEncoder(100, 30, 128, 128, 512)\n",
    "\n",
    "outputs = keras_nlp.layers.MLMHead(\n",
    "             activation=\"softmax\",vocabulary_size = 100)(tf.reshape(transformer_enc,shape=(1,30,128)), mask_positions)"
   ]
  },
  {
   "cell_type": "code",
   "execution_count": 6,
   "id": "56d1020f-0329-409e-bfe1-fc199736b272",
   "metadata": {},
   "outputs": [
    {
     "name": "stdout",
     "output_type": "stream",
     "text": [
      "[[[0.00467508 0.00441838 0.01071235 0.00310489 0.01210354 0.00477227\n",
      "   0.00611654 0.00313052 0.02453023 0.00628459 0.00179553 0.00958625\n",
      "   0.00168085 0.01096947 0.00188782 0.02330849 0.00190416 0.00106751\n",
      "   0.00267046 0.01185277 0.00627244 0.00830063 0.00683598 0.00795698\n",
      "   0.00072294 0.01932546 0.00383808 0.02527227 0.00123843 0.00238332\n",
      "   0.01249238 0.009917   0.02671977 0.00117328 0.00475274 0.0177849\n",
      "   0.00059534 0.00187113 0.00533257 0.01322476 0.00151611 0.00647584\n",
      "   0.00306507 0.00477571 0.00408518 0.00131822 0.0392229  0.00947243\n",
      "   0.01084237 0.00470987 0.01541125 0.0150052  0.00898279 0.00159421\n",
      "   0.02252253 0.00198535 0.00973701 0.00323163 0.00414381 0.00187276\n",
      "   0.00125156 0.14041848 0.00075266 0.0040973  0.0013887  0.00586944\n",
      "   0.00188644 0.00707787 0.00615221 0.00838182 0.01522568 0.00691063\n",
      "   0.00062272 0.02510094 0.04473921 0.00953505 0.00665203 0.00853679\n",
      "   0.04087915 0.00524155 0.00385749 0.00261236 0.00661135 0.00461871\n",
      "   0.00641169 0.00376539 0.01163973 0.00743143 0.0120808  0.00409586\n",
      "   0.00128042 0.00764572 0.00965886 0.0074416  0.0493924  0.00605181\n",
      "   0.00356296 0.00343089 0.00289432 0.01224365]\n",
      "  [0.00439208 0.00451138 0.01056833 0.00302873 0.01171303 0.0047311\n",
      "   0.00600441 0.00317663 0.02404985 0.00620328 0.00179787 0.0091181\n",
      "   0.00161506 0.01048783 0.00185694 0.02357939 0.00190792 0.00106525\n",
      "   0.00271751 0.01204092 0.00611154 0.00855789 0.0066981  0.00782889\n",
      "   0.00072707 0.0187318  0.00372449 0.0252599  0.00123885 0.0024175\n",
      "   0.0123461  0.00986295 0.02658988 0.00119902 0.00492281 0.01778389\n",
      "   0.00057796 0.00187857 0.00545649 0.01271121 0.00147011 0.00632225\n",
      "   0.00312796 0.00477818 0.00410127 0.00131006 0.03820031 0.00973697\n",
      "   0.01003338 0.00477005 0.01547492 0.01534041 0.00916837 0.00165764\n",
      "   0.02176663 0.00201093 0.01014219 0.00332325 0.00430273 0.00189902\n",
      "   0.00124804 0.14557672 0.00075783 0.00396099 0.00138673 0.00576764\n",
      "   0.00187023 0.00736114 0.00588254 0.00842741 0.01506865 0.00682412\n",
      "   0.0006197  0.02500895 0.04517804 0.00912634 0.00678018 0.00842056\n",
      "   0.04192818 0.00515363 0.00385846 0.00259095 0.00681732 0.00475034\n",
      "   0.00618665 0.00372871 0.01119625 0.00768427 0.01191747 0.00401723\n",
      "   0.0013147  0.00760919 0.00959796 0.00758164 0.04901331 0.00586709\n",
      "   0.00350155 0.00330227 0.0029211  0.0120688 ]\n",
      "  [0.00387032 0.00306684 0.00261003 0.00312879 0.00683397 0.00196388\n",
      "   0.00424886 0.00247395 0.01626816 0.00538376 0.00350588 0.01371125\n",
      "   0.00191162 0.00786353 0.00192322 0.00933276 0.00275027 0.00962114\n",
      "   0.00134393 0.06308886 0.00635474 0.00525423 0.00550755 0.00505132\n",
      "   0.00073034 0.00199242 0.01880764 0.0101947  0.00351383 0.00737936\n",
      "   0.0453711  0.00430036 0.04088683 0.00194681 0.00443854 0.0030825\n",
      "   0.00249601 0.00035866 0.00548656 0.00851036 0.00324747 0.00173493\n",
      "   0.00732887 0.01641774 0.00037587 0.00091    0.0149547  0.00566934\n",
      "   0.02144791 0.01137955 0.00269515 0.00326274 0.00348151 0.003389\n",
      "   0.00822143 0.00686721 0.01302436 0.00232287 0.00053016 0.00464786\n",
      "   0.00204393 0.00720782 0.00201065 0.01594722 0.00143837 0.01177404\n",
      "   0.00287468 0.00585147 0.12097038 0.00171791 0.00706191 0.00639492\n",
      "   0.0027391  0.00489551 0.01873781 0.00675107 0.00415328 0.01703391\n",
      "   0.00569006 0.00237032 0.00674321 0.00899342 0.00126211 0.00818335\n",
      "   0.00874508 0.00356899 0.02012894 0.0031763  0.00792475 0.00842162\n",
      "   0.00367374 0.00505406 0.01043192 0.00598132 0.02444255 0.01138825\n",
      "   0.12897605 0.0027571  0.00083552 0.00317385]]]\n"
     ]
    }
   ],
   "source": [
    "with tf.compat.v1.Session() as sess:\n",
    "    writer = tf.compat.v1.summary.FileWriter(\"output\", sess.graph)\n",
    "    init_op = tf.compat.v1.global_variables_initializer()\n",
    "    sess.run(init_op)\n",
    "    print(sess.run(outputs, feed_dict={inputs:input_d}))\n",
    "    writer.close()"
   ]
  },
  {
   "cell_type": "code",
   "execution_count": 11,
   "id": "65feda5c-a2e8-4ff4-8ad2-0f58959d51b0",
   "metadata": {},
   "outputs": [],
   "source": [
    "sess = tf.compat.v1.Session()\n",
    "init_op = tf.compat.v1.global_variables_initializer()\n",
    "sess.run(init_op)"
   ]
  },
  {
   "cell_type": "code",
   "execution_count": 386,
   "id": "5dcc3cd4-3dc6-4870-995b-5a9979ac9538",
   "metadata": {},
   "outputs": [
    {
     "data": {
      "text/plain": [
       "array([[[0.00834731, 0.06053912, 0.00911311, 0.01929833, 0.00446864,\n",
       "         0.01778118, 0.02270513, 0.04674604, 0.22784573, 0.01321384,\n",
       "         0.00502133, 0.00625726, 0.02632103, 0.06286807, 0.07523697,\n",
       "         0.03995257, 0.12752454, 0.10410835, 0.10645556, 0.01619586],\n",
       "        [0.00867515, 0.05815374, 0.0095322 , 0.01983491, 0.0045317 ,\n",
       "         0.01760415, 0.02412194, 0.04569751, 0.2361498 , 0.01558966,\n",
       "         0.00519745, 0.00602834, 0.02843388, 0.06240374, 0.07067045,\n",
       "         0.03894568, 0.11952528, 0.10072213, 0.11317318, 0.01500909]]],\n",
       "      dtype=float32)"
      ]
     },
     "execution_count": 386,
     "metadata": {},
     "output_type": "execute_result"
    }
   ],
   "source": [
    "outputs.eval(session=sess, feed_dict={inputs:input_d})"
   ]
  },
  {
   "cell_type": "code",
   "execution_count": 12,
   "id": "592aa642-914f-4edd-b258-0af2dee816be",
   "metadata": {},
   "outputs": [],
   "source": [
    "labels = tf.one_hot(target, depth=100)"
   ]
  },
  {
   "cell_type": "code",
   "execution_count": 13,
   "id": "108d18b8-da51-4e1b-8123-afbfc116d1d9",
   "metadata": {},
   "outputs": [],
   "source": [
    "loss = tf.abs(tf.subtract(labels,outputs))\n",
    "train = tf.compat.v1.train.AdamOptimizer(5e-3).minimize(loss)"
   ]
  },
  {
   "cell_type": "code",
   "execution_count": 14,
   "id": "584977b2-477c-4615-a617-a2523652764d",
   "metadata": {
    "scrolled": true,
    "tags": []
   },
   "outputs": [
    {
     "name": "stderr",
     "output_type": "stream",
     "text": [
      "  0%|                                                                                                                    | 1/10000 [00:01<4:21:56,  1.57s/it]"
     ]
    },
    {
     "name": "stdout",
     "output_type": "stream",
     "text": [
      "Is w1:0 changed? True\n",
      "Is b1:0 changed? True\n",
      "Is w1_v:0 changed? True\n",
      "Is b1_v:0 changed? True\n",
      "Is w1_k:0 changed? True\n",
      "Is b1_k:0 changed? True\n",
      "Is w1_q:0 changed? True\n",
      "Is b1_q:0 changed? True\n",
      "Is w1_final:0 changed? True\n",
      "Is b1_final:0 changed? True\n",
      "Is w1_ffn:0 changed? True\n",
      "Is b1_ffn:0 changed? True\n",
      "Is w2_ffn:0 changed? True\n",
      "Is b2_ffn:0 changed? True\n",
      "Is mlm_head/output_kernel:0 changed? True\n",
      "Is mlm_head/output_bias:0 changed? True\n",
      "Is mlm_head/dense/kernel:0 changed? True\n",
      "Is mlm_head/dense/bias:0 changed? True\n",
      "Is mlm_head/layer_normalization/gamma:0 changed? True\n",
      "Is mlm_head/layer_normalization/beta:0 changed? True\n",
      "Is beta1_power:0 changed? True\n",
      "Is beta2_power:0 changed? True\n",
      "Is w1/Adam:0 changed? True\n",
      "Is w1/Adam_1:0 changed? True\n",
      "Is b1/Adam:0 changed? True\n",
      "Is b1/Adam_1:0 changed? True\n",
      "Is w1_v/Adam:0 changed? True\n",
      "Is w1_v/Adam_1:0 changed? True\n",
      "Is b1_v/Adam:0 changed? True\n",
      "Is b1_v/Adam_1:0 changed? True\n",
      "Is w1_k/Adam:0 changed? True\n",
      "Is w1_k/Adam_1:0 changed? True\n",
      "Is b1_k/Adam:0 changed? True\n",
      "Is b1_k/Adam_1:0 changed? True\n",
      "Is w1_q/Adam:0 changed? True\n",
      "Is w1_q/Adam_1:0 changed? True\n",
      "Is b1_q/Adam:0 changed? True\n",
      "Is b1_q/Adam_1:0 changed? True\n",
      "Is w1_final/Adam:0 changed? True\n",
      "Is w1_final/Adam_1:0 changed? True\n",
      "Is b1_final/Adam:0 changed? True\n",
      "Is b1_final/Adam_1:0 changed? True\n",
      "Is w1_ffn/Adam:0 changed? True\n",
      "Is w1_ffn/Adam_1:0 changed? True\n",
      "Is b1_ffn/Adam:0 changed? True\n",
      "Is b1_ffn/Adam_1:0 changed? True\n",
      "Is w2_ffn/Adam:0 changed? True\n",
      "Is w2_ffn/Adam_1:0 changed? True\n",
      "Is b2_ffn/Adam:0 changed? True\n",
      "Is b2_ffn/Adam_1:0 changed? True\n",
      "Is mlm_head/output_kernel/Adam:0 changed? True\n",
      "Is mlm_head/output_kernel/Adam_1:0 changed? True\n",
      "Is mlm_head/output_bias/Adam:0 changed? True\n",
      "Is mlm_head/output_bias/Adam_1:0 changed? True\n",
      "Is mlm_head/dense/kernel/Adam:0 changed? True\n",
      "Is mlm_head/dense/kernel/Adam_1:0 changed? True\n",
      "Is mlm_head/dense/bias/Adam:0 changed? True\n",
      "Is mlm_head/dense/bias/Adam_1:0 changed? True\n",
      "Is mlm_head/layer_normalization/gamma/Adam:0 changed? True\n",
      "Is mlm_head/layer_normalization/gamma/Adam_1:0 changed? True\n",
      "Is mlm_head/layer_normalization/beta/Adam:0 changed? True\n",
      "Is mlm_head/layer_normalization/beta/Adam_1:0 changed? True\n",
      "5\n",
      "5\n",
      "8\n"
     ]
    },
    {
     "name": "stderr",
     "output_type": "stream",
     "text": [
      "  5%|█████▊                                                                                                              | 504/10000 [00:23<07:25, 21.31it/s]"
     ]
    },
    {
     "name": "stdout",
     "output_type": "stream",
     "text": [
      "Is w1:0 changed? True\n",
      "Is b1:0 changed? True\n",
      "Is w1_v:0 changed? True\n",
      "Is b1_v:0 changed? True\n",
      "Is w1_k:0 changed? True\n",
      "Is b1_k:0 changed? True\n",
      "Is w1_q:0 changed? True\n",
      "Is b1_q:0 changed? True\n",
      "Is w1_final:0 changed? True\n",
      "Is b1_final:0 changed? True\n",
      "Is w1_ffn:0 changed? True\n",
      "Is b1_ffn:0 changed? True\n",
      "Is w2_ffn:0 changed? True\n",
      "Is b2_ffn:0 changed? True\n",
      "Is mlm_head/output_kernel:0 changed? True\n",
      "Is mlm_head/output_bias:0 changed? True\n",
      "Is mlm_head/dense/kernel:0 changed? True\n",
      "Is mlm_head/dense/bias:0 changed? True\n",
      "Is mlm_head/layer_normalization/gamma:0 changed? True\n",
      "Is mlm_head/layer_normalization/beta:0 changed? True\n",
      "Is beta1_power:0 changed? True\n",
      "Is beta2_power:0 changed? True\n",
      "Is w1/Adam:0 changed? True\n",
      "Is w1/Adam_1:0 changed? True\n",
      "Is b1/Adam:0 changed? True\n",
      "Is b1/Adam_1:0 changed? True\n",
      "Is w1_v/Adam:0 changed? True\n",
      "Is w1_v/Adam_1:0 changed? True\n",
      "Is b1_v/Adam:0 changed? True\n",
      "Is b1_v/Adam_1:0 changed? True\n",
      "Is w1_k/Adam:0 changed? True\n",
      "Is w1_k/Adam_1:0 changed? True\n",
      "Is b1_k/Adam:0 changed? True\n",
      "Is b1_k/Adam_1:0 changed? True\n",
      "Is w1_q/Adam:0 changed? True\n",
      "Is w1_q/Adam_1:0 changed? True\n",
      "Is b1_q/Adam:0 changed? True\n",
      "Is b1_q/Adam_1:0 changed? True\n",
      "Is w1_final/Adam:0 changed? True\n",
      "Is w1_final/Adam_1:0 changed? True\n",
      "Is b1_final/Adam:0 changed? True\n",
      "Is b1_final/Adam_1:0 changed? True\n",
      "Is w1_ffn/Adam:0 changed? True\n",
      "Is w1_ffn/Adam_1:0 changed? True\n",
      "Is b1_ffn/Adam:0 changed? True\n",
      "Is b1_ffn/Adam_1:0 changed? True\n",
      "Is w2_ffn/Adam:0 changed? True\n",
      "Is w2_ffn/Adam_1:0 changed? True\n",
      "Is b2_ffn/Adam:0 changed? True\n",
      "Is b2_ffn/Adam_1:0 changed? True\n",
      "Is mlm_head/output_kernel/Adam:0 changed? True\n",
      "Is mlm_head/output_kernel/Adam_1:0 changed? True\n",
      "Is mlm_head/output_bias/Adam:0 changed? True\n",
      "Is mlm_head/output_bias/Adam_1:0 changed? True\n",
      "Is mlm_head/dense/kernel/Adam:0 changed? True\n",
      "Is mlm_head/dense/kernel/Adam_1:0 changed? True\n",
      "Is mlm_head/dense/bias/Adam:0 changed? True\n",
      "Is mlm_head/dense/bias/Adam_1:0 changed? True\n",
      "Is mlm_head/layer_normalization/gamma/Adam:0 changed? True\n",
      "Is mlm_head/layer_normalization/gamma/Adam_1:0 changed? True\n",
      "Is mlm_head/layer_normalization/beta/Adam:0 changed? True\n",
      "Is mlm_head/layer_normalization/beta/Adam_1:0 changed? True\n",
      "5\n",
      "5\n",
      "5\n"
     ]
    },
    {
     "name": "stderr",
     "output_type": "stream",
     "text": [
      " 10%|███████████▌                                                                                                       | 1002/10000 [00:44<07:21, 20.39it/s]"
     ]
    },
    {
     "name": "stdout",
     "output_type": "stream",
     "text": [
      "Is w1:0 changed? True\n",
      "Is b1:0 changed? True\n",
      "Is w1_v:0 changed? True\n",
      "Is b1_v:0 changed? True\n",
      "Is w1_k:0 changed? True\n",
      "Is b1_k:0 changed? True\n",
      "Is w1_q:0 changed? True\n",
      "Is b1_q:0 changed? True\n",
      "Is w1_final:0 changed? True\n",
      "Is b1_final:0 changed? True\n",
      "Is w1_ffn:0 changed? True\n",
      "Is b1_ffn:0 changed? True\n",
      "Is w2_ffn:0 changed? True\n",
      "Is b2_ffn:0 changed? True\n",
      "Is mlm_head/output_kernel:0 changed? True\n",
      "Is mlm_head/output_bias:0 changed? True\n",
      "Is mlm_head/dense/kernel:0 changed? True\n",
      "Is mlm_head/dense/bias:0 changed? True\n",
      "Is mlm_head/layer_normalization/gamma:0 changed? True\n",
      "Is mlm_head/layer_normalization/beta:0 changed? True\n",
      "Is beta1_power:0 changed? True\n",
      "Is beta2_power:0 changed? True\n",
      "Is w1/Adam:0 changed? True\n",
      "Is w1/Adam_1:0 changed? True\n",
      "Is b1/Adam:0 changed? True\n",
      "Is b1/Adam_1:0 changed? True\n",
      "Is w1_v/Adam:0 changed? True\n",
      "Is w1_v/Adam_1:0 changed? True\n",
      "Is b1_v/Adam:0 changed? True\n",
      "Is b1_v/Adam_1:0 changed? True\n",
      "Is w1_k/Adam:0 changed? True\n",
      "Is w1_k/Adam_1:0 changed? True\n",
      "Is b1_k/Adam:0 changed? True\n",
      "Is b1_k/Adam_1:0 changed? True\n",
      "Is w1_q/Adam:0 changed? True\n",
      "Is w1_q/Adam_1:0 changed? True\n",
      "Is b1_q/Adam:0 changed? True\n",
      "Is b1_q/Adam_1:0 changed? True\n",
      "Is w1_final/Adam:0 changed? True\n",
      "Is w1_final/Adam_1:0 changed? True\n",
      "Is b1_final/Adam:0 changed? True\n",
      "Is b1_final/Adam_1:0 changed? True\n",
      "Is w1_ffn/Adam:0 changed? True\n",
      "Is w1_ffn/Adam_1:0 changed? True\n",
      "Is b1_ffn/Adam:0 changed? True\n",
      "Is b1_ffn/Adam_1:0 changed? True\n",
      "Is w2_ffn/Adam:0 changed? True\n",
      "Is w2_ffn/Adam_1:0 changed? True\n",
      "Is b2_ffn/Adam:0 changed? True\n",
      "Is b2_ffn/Adam_1:0 changed? True\n",
      "Is mlm_head/output_kernel/Adam:0 changed? True\n",
      "Is mlm_head/output_kernel/Adam_1:0 changed? True\n",
      "Is mlm_head/output_bias/Adam:0 changed? True\n",
      "Is mlm_head/output_bias/Adam_1:0 changed? True\n",
      "Is mlm_head/dense/kernel/Adam:0 changed? True\n",
      "Is mlm_head/dense/kernel/Adam_1:0 changed? True\n",
      "Is mlm_head/dense/bias/Adam:0 changed? True\n",
      "Is mlm_head/dense/bias/Adam_1:0 changed? True\n",
      "Is mlm_head/layer_normalization/gamma/Adam:0 changed? True\n",
      "Is mlm_head/layer_normalization/gamma/Adam_1:0 changed? True\n",
      "Is mlm_head/layer_normalization/beta/Adam:0 changed? True\n",
      "Is mlm_head/layer_normalization/beta/Adam_1:0 changed? True\n",
      "35\n",
      "35\n",
      "35\n"
     ]
    },
    {
     "name": "stderr",
     "output_type": "stream",
     "text": [
      " 15%|█████████████████▎                                                                                                 | 1503/10000 [01:06<06:57, 20.37it/s]"
     ]
    },
    {
     "name": "stdout",
     "output_type": "stream",
     "text": [
      "Is w1:0 changed? True\n",
      "Is b1:0 changed? True\n",
      "Is w1_v:0 changed? True\n",
      "Is b1_v:0 changed? True\n",
      "Is w1_k:0 changed? True\n",
      "Is b1_k:0 changed? False\n",
      "Is w1_q:0 changed? True\n",
      "Is b1_q:0 changed? True\n",
      "Is w1_final:0 changed? True\n",
      "Is b1_final:0 changed? False\n",
      "Is w1_ffn:0 changed? True\n",
      "Is b1_ffn:0 changed? True\n",
      "Is w2_ffn:0 changed? True\n",
      "Is b2_ffn:0 changed? True\n",
      "Is mlm_head/output_kernel:0 changed? True\n",
      "Is mlm_head/output_bias:0 changed? True\n",
      "Is mlm_head/dense/kernel:0 changed? True\n",
      "Is mlm_head/dense/bias:0 changed? True\n",
      "Is mlm_head/layer_normalization/gamma:0 changed? True\n",
      "Is mlm_head/layer_normalization/beta:0 changed? True\n",
      "Is beta1_power:0 changed? False\n",
      "Is beta2_power:0 changed? True\n",
      "Is w1/Adam:0 changed? True\n",
      "Is w1/Adam_1:0 changed? True\n",
      "Is b1/Adam:0 changed? True\n",
      "Is b1/Adam_1:0 changed? True\n",
      "Is w1_v/Adam:0 changed? True\n",
      "Is w1_v/Adam_1:0 changed? True\n",
      "Is b1_v/Adam:0 changed? True\n",
      "Is b1_v/Adam_1:0 changed? True\n",
      "Is w1_k/Adam:0 changed? True\n",
      "Is w1_k/Adam_1:0 changed? True\n",
      "Is b1_k/Adam:0 changed? True\n",
      "Is b1_k/Adam_1:0 changed? True\n",
      "Is w1_q/Adam:0 changed? True\n",
      "Is w1_q/Adam_1:0 changed? True\n",
      "Is b1_q/Adam:0 changed? True\n",
      "Is b1_q/Adam_1:0 changed? True\n",
      "Is w1_final/Adam:0 changed? True\n",
      "Is w1_final/Adam_1:0 changed? True\n",
      "Is b1_final/Adam:0 changed? True\n",
      "Is b1_final/Adam_1:0 changed? True\n",
      "Is w1_ffn/Adam:0 changed? True\n",
      "Is w1_ffn/Adam_1:0 changed? True\n",
      "Is b1_ffn/Adam:0 changed? True\n",
      "Is b1_ffn/Adam_1:0 changed? True\n",
      "Is w2_ffn/Adam:0 changed? True\n",
      "Is w2_ffn/Adam_1:0 changed? True\n",
      "Is b2_ffn/Adam:0 changed? True\n",
      "Is b2_ffn/Adam_1:0 changed? True\n",
      "Is mlm_head/output_kernel/Adam:0 changed? True\n",
      "Is mlm_head/output_kernel/Adam_1:0 changed? True\n",
      "Is mlm_head/output_bias/Adam:0 changed? True\n",
      "Is mlm_head/output_bias/Adam_1:0 changed? True\n",
      "Is mlm_head/dense/kernel/Adam:0 changed? True\n",
      "Is mlm_head/dense/kernel/Adam_1:0 changed? True\n",
      "Is mlm_head/dense/bias/Adam:0 changed? True\n",
      "Is mlm_head/dense/bias/Adam_1:0 changed? True\n",
      "Is mlm_head/layer_normalization/gamma/Adam:0 changed? True\n",
      "Is mlm_head/layer_normalization/gamma/Adam_1:0 changed? True\n",
      "Is mlm_head/layer_normalization/beta/Adam:0 changed? True\n",
      "Is mlm_head/layer_normalization/beta/Adam_1:0 changed? True\n",
      "35\n",
      "35\n",
      "35\n"
     ]
    },
    {
     "name": "stderr",
     "output_type": "stream",
     "text": [
      " 20%|███████████████████████                                                                                            | 2004/10000 [01:27<06:05, 21.85it/s]"
     ]
    },
    {
     "name": "stdout",
     "output_type": "stream",
     "text": [
      "Is w1:0 changed? True\n",
      "Is b1:0 changed? True\n",
      "Is w1_v:0 changed? True\n",
      "Is b1_v:0 changed? True\n",
      "Is w1_k:0 changed? True\n",
      "Is b1_k:0 changed? False\n",
      "Is w1_q:0 changed? True\n",
      "Is b1_q:0 changed? True\n",
      "Is w1_final:0 changed? True\n",
      "Is b1_final:0 changed? False\n",
      "Is w1_ffn:0 changed? True\n",
      "Is b1_ffn:0 changed? True\n",
      "Is w2_ffn:0 changed? True\n",
      "Is b2_ffn:0 changed? True\n",
      "Is mlm_head/output_kernel:0 changed? True\n",
      "Is mlm_head/output_bias:0 changed? True\n",
      "Is mlm_head/dense/kernel:0 changed? True\n",
      "Is mlm_head/dense/bias:0 changed? True\n",
      "Is mlm_head/layer_normalization/gamma:0 changed? True\n",
      "Is mlm_head/layer_normalization/beta:0 changed? True\n",
      "Is beta1_power:0 changed? False\n",
      "Is beta2_power:0 changed? True\n",
      "Is w1/Adam:0 changed? True\n",
      "Is w1/Adam_1:0 changed? True\n",
      "Is b1/Adam:0 changed? True\n",
      "Is b1/Adam_1:0 changed? True\n",
      "Is w1_v/Adam:0 changed? True\n",
      "Is w1_v/Adam_1:0 changed? True\n",
      "Is b1_v/Adam:0 changed? True\n",
      "Is b1_v/Adam_1:0 changed? True\n",
      "Is w1_k/Adam:0 changed? True\n",
      "Is w1_k/Adam_1:0 changed? True\n",
      "Is b1_k/Adam:0 changed? True\n",
      "Is b1_k/Adam_1:0 changed? True\n",
      "Is w1_q/Adam:0 changed? True\n",
      "Is w1_q/Adam_1:0 changed? True\n",
      "Is b1_q/Adam:0 changed? True\n",
      "Is b1_q/Adam_1:0 changed? True\n",
      "Is w1_final/Adam:0 changed? True\n",
      "Is w1_final/Adam_1:0 changed? True\n",
      "Is b1_final/Adam:0 changed? True\n",
      "Is b1_final/Adam_1:0 changed? True\n",
      "Is w1_ffn/Adam:0 changed? True\n",
      "Is w1_ffn/Adam_1:0 changed? True\n",
      "Is b1_ffn/Adam:0 changed? True\n",
      "Is b1_ffn/Adam_1:0 changed? True\n",
      "Is w2_ffn/Adam:0 changed? True\n",
      "Is w2_ffn/Adam_1:0 changed? True\n",
      "Is b2_ffn/Adam:0 changed? True\n",
      "Is b2_ffn/Adam_1:0 changed? True\n",
      "Is mlm_head/output_kernel/Adam:0 changed? True\n",
      "Is mlm_head/output_kernel/Adam_1:0 changed? True\n",
      "Is mlm_head/output_bias/Adam:0 changed? True\n",
      "Is mlm_head/output_bias/Adam_1:0 changed? True\n",
      "Is mlm_head/dense/kernel/Adam:0 changed? True\n",
      "Is mlm_head/dense/kernel/Adam_1:0 changed? True\n",
      "Is mlm_head/dense/bias/Adam:0 changed? True\n",
      "Is mlm_head/dense/bias/Adam_1:0 changed? True\n",
      "Is mlm_head/layer_normalization/gamma/Adam:0 changed? True\n",
      "Is mlm_head/layer_normalization/gamma/Adam_1:0 changed? True\n",
      "Is mlm_head/layer_normalization/beta/Adam:0 changed? True\n",
      "Is mlm_head/layer_normalization/beta/Adam_1:0 changed? True\n",
      "35\n",
      "35\n",
      "35\n"
     ]
    },
    {
     "name": "stderr",
     "output_type": "stream",
     "text": [
      " 25%|████████████████████████████▊                                                                                      | 2503/10000 [01:50<06:18, 19.81it/s]"
     ]
    },
    {
     "name": "stdout",
     "output_type": "stream",
     "text": [
      "Is w1:0 changed? True\n",
      "Is b1:0 changed? True\n",
      "Is w1_v:0 changed? True\n",
      "Is b1_v:0 changed? True\n",
      "Is w1_k:0 changed? True\n",
      "Is b1_k:0 changed? False\n",
      "Is w1_q:0 changed? True\n",
      "Is b1_q:0 changed? True\n",
      "Is w1_final:0 changed? True\n",
      "Is b1_final:0 changed? False\n",
      "Is w1_ffn:0 changed? True\n",
      "Is b1_ffn:0 changed? True\n",
      "Is w2_ffn:0 changed? True\n",
      "Is b2_ffn:0 changed? True\n",
      "Is mlm_head/output_kernel:0 changed? True\n",
      "Is mlm_head/output_bias:0 changed? True\n",
      "Is mlm_head/dense/kernel:0 changed? True\n",
      "Is mlm_head/dense/bias:0 changed? True\n",
      "Is mlm_head/layer_normalization/gamma:0 changed? True\n",
      "Is mlm_head/layer_normalization/beta:0 changed? True\n",
      "Is beta1_power:0 changed? False\n",
      "Is beta2_power:0 changed? True\n",
      "Is w1/Adam:0 changed? True\n",
      "Is w1/Adam_1:0 changed? True\n",
      "Is b1/Adam:0 changed? True\n",
      "Is b1/Adam_1:0 changed? True\n",
      "Is w1_v/Adam:0 changed? True\n",
      "Is w1_v/Adam_1:0 changed? True\n",
      "Is b1_v/Adam:0 changed? True\n",
      "Is b1_v/Adam_1:0 changed? True\n",
      "Is w1_k/Adam:0 changed? True\n",
      "Is w1_k/Adam_1:0 changed? True\n",
      "Is b1_k/Adam:0 changed? True\n",
      "Is b1_k/Adam_1:0 changed? True\n",
      "Is w1_q/Adam:0 changed? True\n",
      "Is w1_q/Adam_1:0 changed? True\n",
      "Is b1_q/Adam:0 changed? True\n",
      "Is b1_q/Adam_1:0 changed? True\n",
      "Is w1_final/Adam:0 changed? True\n",
      "Is w1_final/Adam_1:0 changed? True\n",
      "Is b1_final/Adam:0 changed? True\n",
      "Is b1_final/Adam_1:0 changed? True\n",
      "Is w1_ffn/Adam:0 changed? True\n",
      "Is w1_ffn/Adam_1:0 changed? True\n",
      "Is b1_ffn/Adam:0 changed? True\n",
      "Is b1_ffn/Adam_1:0 changed? True\n",
      "Is w2_ffn/Adam:0 changed? True\n",
      "Is w2_ffn/Adam_1:0 changed? True\n",
      "Is b2_ffn/Adam:0 changed? True\n",
      "Is b2_ffn/Adam_1:0 changed? True\n",
      "Is mlm_head/output_kernel/Adam:0 changed? True\n",
      "Is mlm_head/output_kernel/Adam_1:0 changed? True\n",
      "Is mlm_head/output_bias/Adam:0 changed? True\n",
      "Is mlm_head/output_bias/Adam_1:0 changed? True\n",
      "Is mlm_head/dense/kernel/Adam:0 changed? True\n",
      "Is mlm_head/dense/kernel/Adam_1:0 changed? True\n",
      "Is mlm_head/dense/bias/Adam:0 changed? True\n",
      "Is mlm_head/dense/bias/Adam_1:0 changed? True\n",
      "Is mlm_head/layer_normalization/gamma/Adam:0 changed? True\n",
      "Is mlm_head/layer_normalization/gamma/Adam_1:0 changed? True\n",
      "Is mlm_head/layer_normalization/beta/Adam:0 changed? True\n",
      "Is mlm_head/layer_normalization/beta/Adam_1:0 changed? True\n",
      "35\n",
      "35\n",
      "35\n"
     ]
    },
    {
     "name": "stderr",
     "output_type": "stream",
     "text": [
      " 30%|██████████████████████████████████▌                                                                                | 3005/10000 [02:12<05:16, 22.10it/s]"
     ]
    },
    {
     "name": "stdout",
     "output_type": "stream",
     "text": [
      "Is w1:0 changed? True\n",
      "Is b1:0 changed? True\n",
      "Is w1_v:0 changed? True\n",
      "Is b1_v:0 changed? True\n",
      "Is w1_k:0 changed? True\n",
      "Is b1_k:0 changed? False\n",
      "Is w1_q:0 changed? True\n",
      "Is b1_q:0 changed? True\n",
      "Is w1_final:0 changed? True\n",
      "Is b1_final:0 changed? False\n",
      "Is w1_ffn:0 changed? True\n",
      "Is b1_ffn:0 changed? True\n",
      "Is w2_ffn:0 changed? True\n",
      "Is b2_ffn:0 changed? True\n",
      "Is mlm_head/output_kernel:0 changed? True\n",
      "Is mlm_head/output_bias:0 changed? True\n",
      "Is mlm_head/dense/kernel:0 changed? True\n",
      "Is mlm_head/dense/bias:0 changed? True\n",
      "Is mlm_head/layer_normalization/gamma:0 changed? True\n",
      "Is mlm_head/layer_normalization/beta:0 changed? True\n",
      "Is beta1_power:0 changed? False\n",
      "Is beta2_power:0 changed? True\n",
      "Is w1/Adam:0 changed? True\n",
      "Is w1/Adam_1:0 changed? True\n",
      "Is b1/Adam:0 changed? True\n",
      "Is b1/Adam_1:0 changed? True\n",
      "Is w1_v/Adam:0 changed? True\n",
      "Is w1_v/Adam_1:0 changed? True\n",
      "Is b1_v/Adam:0 changed? True\n",
      "Is b1_v/Adam_1:0 changed? True\n",
      "Is w1_k/Adam:0 changed? True\n",
      "Is w1_k/Adam_1:0 changed? True\n",
      "Is b1_k/Adam:0 changed? True\n",
      "Is b1_k/Adam_1:0 changed? True\n",
      "Is w1_q/Adam:0 changed? True\n",
      "Is w1_q/Adam_1:0 changed? True\n",
      "Is b1_q/Adam:0 changed? True\n",
      "Is b1_q/Adam_1:0 changed? True\n",
      "Is w1_final/Adam:0 changed? True\n",
      "Is w1_final/Adam_1:0 changed? True\n",
      "Is b1_final/Adam:0 changed? True\n",
      "Is b1_final/Adam_1:0 changed? True\n",
      "Is w1_ffn/Adam:0 changed? True\n",
      "Is w1_ffn/Adam_1:0 changed? True\n",
      "Is b1_ffn/Adam:0 changed? True\n",
      "Is b1_ffn/Adam_1:0 changed? True\n",
      "Is w2_ffn/Adam:0 changed? True\n",
      "Is w2_ffn/Adam_1:0 changed? True\n",
      "Is b2_ffn/Adam:0 changed? True\n",
      "Is b2_ffn/Adam_1:0 changed? True\n",
      "Is mlm_head/output_kernel/Adam:0 changed? True\n",
      "Is mlm_head/output_kernel/Adam_1:0 changed? True\n",
      "Is mlm_head/output_bias/Adam:0 changed? True\n",
      "Is mlm_head/output_bias/Adam_1:0 changed? True\n",
      "Is mlm_head/dense/kernel/Adam:0 changed? True\n",
      "Is mlm_head/dense/kernel/Adam_1:0 changed? True\n",
      "Is mlm_head/dense/bias/Adam:0 changed? True\n",
      "Is mlm_head/dense/bias/Adam_1:0 changed? True\n",
      "Is mlm_head/layer_normalization/gamma/Adam:0 changed? True\n",
      "Is mlm_head/layer_normalization/gamma/Adam_1:0 changed? True\n",
      "Is mlm_head/layer_normalization/beta/Adam:0 changed? True\n",
      "Is mlm_head/layer_normalization/beta/Adam_1:0 changed? True\n",
      "35\n",
      "35\n",
      "35\n"
     ]
    },
    {
     "name": "stderr",
     "output_type": "stream",
     "text": [
      " 35%|████████████████████████████████████████▎                                                                          | 3505/10000 [02:35<05:01, 21.53it/s]"
     ]
    },
    {
     "name": "stdout",
     "output_type": "stream",
     "text": [
      "Is w1:0 changed? True\n",
      "Is b1:0 changed? True\n",
      "Is w1_v:0 changed? True\n",
      "Is b1_v:0 changed? True\n",
      "Is w1_k:0 changed? True\n",
      "Is b1_k:0 changed? False\n",
      "Is w1_q:0 changed? True\n",
      "Is b1_q:0 changed? True\n",
      "Is w1_final:0 changed? True\n",
      "Is b1_final:0 changed? False\n",
      "Is w1_ffn:0 changed? True\n",
      "Is b1_ffn:0 changed? True\n",
      "Is w2_ffn:0 changed? True\n",
      "Is b2_ffn:0 changed? True\n",
      "Is mlm_head/output_kernel:0 changed? True\n",
      "Is mlm_head/output_bias:0 changed? True\n",
      "Is mlm_head/dense/kernel:0 changed? True\n",
      "Is mlm_head/dense/bias:0 changed? True\n",
      "Is mlm_head/layer_normalization/gamma:0 changed? True\n",
      "Is mlm_head/layer_normalization/beta:0 changed? True\n",
      "Is beta1_power:0 changed? False\n",
      "Is beta2_power:0 changed? True\n",
      "Is w1/Adam:0 changed? True\n",
      "Is w1/Adam_1:0 changed? True\n",
      "Is b1/Adam:0 changed? True\n",
      "Is b1/Adam_1:0 changed? True\n",
      "Is w1_v/Adam:0 changed? True\n",
      "Is w1_v/Adam_1:0 changed? True\n",
      "Is b1_v/Adam:0 changed? True\n",
      "Is b1_v/Adam_1:0 changed? True\n",
      "Is w1_k/Adam:0 changed? True\n",
      "Is w1_k/Adam_1:0 changed? True\n",
      "Is b1_k/Adam:0 changed? True\n",
      "Is b1_k/Adam_1:0 changed? True\n",
      "Is w1_q/Adam:0 changed? True\n",
      "Is w1_q/Adam_1:0 changed? True\n",
      "Is b1_q/Adam:0 changed? True\n",
      "Is b1_q/Adam_1:0 changed? True\n",
      "Is w1_final/Adam:0 changed? True\n",
      "Is w1_final/Adam_1:0 changed? True\n",
      "Is b1_final/Adam:0 changed? True\n",
      "Is b1_final/Adam_1:0 changed? True\n",
      "Is w1_ffn/Adam:0 changed? True\n",
      "Is w1_ffn/Adam_1:0 changed? True\n",
      "Is b1_ffn/Adam:0 changed? True\n",
      "Is b1_ffn/Adam_1:0 changed? True\n",
      "Is w2_ffn/Adam:0 changed? True\n",
      "Is w2_ffn/Adam_1:0 changed? True\n",
      "Is b2_ffn/Adam:0 changed? True\n",
      "Is b2_ffn/Adam_1:0 changed? True\n",
      "Is mlm_head/output_kernel/Adam:0 changed? True\n",
      "Is mlm_head/output_kernel/Adam_1:0 changed? True\n",
      "Is mlm_head/output_bias/Adam:0 changed? True\n",
      "Is mlm_head/output_bias/Adam_1:0 changed? True\n",
      "Is mlm_head/dense/kernel/Adam:0 changed? True\n",
      "Is mlm_head/dense/kernel/Adam_1:0 changed? True\n",
      "Is mlm_head/dense/bias/Adam:0 changed? True\n",
      "Is mlm_head/dense/bias/Adam_1:0 changed? True\n",
      "Is mlm_head/layer_normalization/gamma/Adam:0 changed? True\n",
      "Is mlm_head/layer_normalization/gamma/Adam_1:0 changed? True\n",
      "Is mlm_head/layer_normalization/beta/Adam:0 changed? True\n",
      "Is mlm_head/layer_normalization/beta/Adam_1:0 changed? True\n",
      "35\n",
      "35\n",
      "35\n"
     ]
    },
    {
     "name": "stderr",
     "output_type": "stream",
     "text": [
      " 40%|██████████████████████████████████████████████                                                                     | 4003/10000 [02:57<04:49, 20.71it/s]"
     ]
    },
    {
     "name": "stdout",
     "output_type": "stream",
     "text": [
      "Is w1:0 changed? True\n",
      "Is b1:0 changed? True\n",
      "Is w1_v:0 changed? True\n",
      "Is b1_v:0 changed? True\n",
      "Is w1_k:0 changed? True\n",
      "Is b1_k:0 changed? False\n",
      "Is w1_q:0 changed? True\n",
      "Is b1_q:0 changed? True\n",
      "Is w1_final:0 changed? True\n",
      "Is b1_final:0 changed? False\n",
      "Is w1_ffn:0 changed? True\n",
      "Is b1_ffn:0 changed? True\n",
      "Is w2_ffn:0 changed? True\n",
      "Is b2_ffn:0 changed? True\n",
      "Is mlm_head/output_kernel:0 changed? True\n",
      "Is mlm_head/output_bias:0 changed? True\n",
      "Is mlm_head/dense/kernel:0 changed? True\n",
      "Is mlm_head/dense/bias:0 changed? True\n",
      "Is mlm_head/layer_normalization/gamma:0 changed? True\n",
      "Is mlm_head/layer_normalization/beta:0 changed? True\n",
      "Is beta1_power:0 changed? False\n",
      "Is beta2_power:0 changed? True\n",
      "Is w1/Adam:0 changed? True\n",
      "Is w1/Adam_1:0 changed? True\n",
      "Is b1/Adam:0 changed? True\n",
      "Is b1/Adam_1:0 changed? True\n",
      "Is w1_v/Adam:0 changed? True\n",
      "Is w1_v/Adam_1:0 changed? True\n",
      "Is b1_v/Adam:0 changed? True\n",
      "Is b1_v/Adam_1:0 changed? True\n",
      "Is w1_k/Adam:0 changed? True\n",
      "Is w1_k/Adam_1:0 changed? True\n",
      "Is b1_k/Adam:0 changed? True\n",
      "Is b1_k/Adam_1:0 changed? True\n",
      "Is w1_q/Adam:0 changed? True\n",
      "Is w1_q/Adam_1:0 changed? True\n",
      "Is b1_q/Adam:0 changed? True\n",
      "Is b1_q/Adam_1:0 changed? True\n",
      "Is w1_final/Adam:0 changed? True\n",
      "Is w1_final/Adam_1:0 changed? True\n",
      "Is b1_final/Adam:0 changed? True\n",
      "Is b1_final/Adam_1:0 changed? True\n",
      "Is w1_ffn/Adam:0 changed? True\n",
      "Is w1_ffn/Adam_1:0 changed? True\n",
      "Is b1_ffn/Adam:0 changed? True\n",
      "Is b1_ffn/Adam_1:0 changed? True\n",
      "Is w2_ffn/Adam:0 changed? True\n",
      "Is w2_ffn/Adam_1:0 changed? True\n",
      "Is b2_ffn/Adam:0 changed? True\n",
      "Is b2_ffn/Adam_1:0 changed? True\n",
      "Is mlm_head/output_kernel/Adam:0 changed? True\n",
      "Is mlm_head/output_kernel/Adam_1:0 changed? True\n",
      "Is mlm_head/output_bias/Adam:0 changed? True\n",
      "Is mlm_head/output_bias/Adam_1:0 changed? True\n",
      "Is mlm_head/dense/kernel/Adam:0 changed? True\n",
      "Is mlm_head/dense/kernel/Adam_1:0 changed? True\n",
      "Is mlm_head/dense/bias/Adam:0 changed? True\n",
      "Is mlm_head/dense/bias/Adam_1:0 changed? True\n",
      "Is mlm_head/layer_normalization/gamma/Adam:0 changed? True\n",
      "Is mlm_head/layer_normalization/gamma/Adam_1:0 changed? True\n",
      "Is mlm_head/layer_normalization/beta/Adam:0 changed? True\n",
      "Is mlm_head/layer_normalization/beta/Adam_1:0 changed? True\n",
      "35\n",
      "35\n",
      "35\n"
     ]
    },
    {
     "name": "stderr",
     "output_type": "stream",
     "text": [
      " 45%|███████████████████████████████████████████████████▊                                                               | 4504/10000 [03:18<04:18, 21.30it/s]"
     ]
    },
    {
     "name": "stdout",
     "output_type": "stream",
     "text": [
      "Is w1:0 changed? True\n",
      "Is b1:0 changed? True\n",
      "Is w1_v:0 changed? True\n",
      "Is b1_v:0 changed? True\n",
      "Is w1_k:0 changed? True\n",
      "Is b1_k:0 changed? False\n",
      "Is w1_q:0 changed? True\n",
      "Is b1_q:0 changed? True\n",
      "Is w1_final:0 changed? True\n",
      "Is b1_final:0 changed? False\n",
      "Is w1_ffn:0 changed? True\n",
      "Is b1_ffn:0 changed? True\n",
      "Is w2_ffn:0 changed? True\n",
      "Is b2_ffn:0 changed? True\n",
      "Is mlm_head/output_kernel:0 changed? True\n",
      "Is mlm_head/output_bias:0 changed? True\n",
      "Is mlm_head/dense/kernel:0 changed? True\n",
      "Is mlm_head/dense/bias:0 changed? True\n",
      "Is mlm_head/layer_normalization/gamma:0 changed? True\n",
      "Is mlm_head/layer_normalization/beta:0 changed? True\n",
      "Is beta1_power:0 changed? False\n",
      "Is beta2_power:0 changed? True\n",
      "Is w1/Adam:0 changed? True\n",
      "Is w1/Adam_1:0 changed? True\n",
      "Is b1/Adam:0 changed? True\n",
      "Is b1/Adam_1:0 changed? True\n",
      "Is w1_v/Adam:0 changed? True\n",
      "Is w1_v/Adam_1:0 changed? True\n",
      "Is b1_v/Adam:0 changed? True\n",
      "Is b1_v/Adam_1:0 changed? True\n",
      "Is w1_k/Adam:0 changed? True\n",
      "Is w1_k/Adam_1:0 changed? True\n",
      "Is b1_k/Adam:0 changed? True\n",
      "Is b1_k/Adam_1:0 changed? True\n",
      "Is w1_q/Adam:0 changed? True\n",
      "Is w1_q/Adam_1:0 changed? True\n",
      "Is b1_q/Adam:0 changed? True\n",
      "Is b1_q/Adam_1:0 changed? True\n",
      "Is w1_final/Adam:0 changed? True\n",
      "Is w1_final/Adam_1:0 changed? True\n",
      "Is b1_final/Adam:0 changed? True\n",
      "Is b1_final/Adam_1:0 changed? True\n",
      "Is w1_ffn/Adam:0 changed? True\n",
      "Is w1_ffn/Adam_1:0 changed? True\n",
      "Is b1_ffn/Adam:0 changed? True\n",
      "Is b1_ffn/Adam_1:0 changed? True\n",
      "Is w2_ffn/Adam:0 changed? True\n",
      "Is w2_ffn/Adam_1:0 changed? True\n",
      "Is b2_ffn/Adam:0 changed? True\n",
      "Is b2_ffn/Adam_1:0 changed? True\n",
      "Is mlm_head/output_kernel/Adam:0 changed? True\n",
      "Is mlm_head/output_kernel/Adam_1:0 changed? True\n",
      "Is mlm_head/output_bias/Adam:0 changed? True\n",
      "Is mlm_head/output_bias/Adam_1:0 changed? True\n",
      "Is mlm_head/dense/kernel/Adam:0 changed? True\n",
      "Is mlm_head/dense/kernel/Adam_1:0 changed? True\n",
      "Is mlm_head/dense/bias/Adam:0 changed? True\n",
      "Is mlm_head/dense/bias/Adam_1:0 changed? True\n",
      "Is mlm_head/layer_normalization/gamma/Adam:0 changed? True\n",
      "Is mlm_head/layer_normalization/gamma/Adam_1:0 changed? True\n",
      "Is mlm_head/layer_normalization/beta/Adam:0 changed? True\n",
      "Is mlm_head/layer_normalization/beta/Adam_1:0 changed? True\n",
      "35\n",
      "35\n",
      "35\n"
     ]
    },
    {
     "name": "stderr",
     "output_type": "stream",
     "text": [
      " 50%|█████████████████████████████████████████████████████████▌                                                         | 5002/10000 [03:39<04:07, 20.18it/s]"
     ]
    },
    {
     "name": "stdout",
     "output_type": "stream",
     "text": [
      "Is w1:0 changed? True\n",
      "Is b1:0 changed? True\n",
      "Is w1_v:0 changed? True\n",
      "Is b1_v:0 changed? True\n",
      "Is w1_k:0 changed? True\n",
      "Is b1_k:0 changed? False\n",
      "Is w1_q:0 changed? True\n",
      "Is b1_q:0 changed? True\n",
      "Is w1_final:0 changed? True\n",
      "Is b1_final:0 changed? False\n",
      "Is w1_ffn:0 changed? True\n",
      "Is b1_ffn:0 changed? True\n",
      "Is w2_ffn:0 changed? True\n",
      "Is b2_ffn:0 changed? True\n",
      "Is mlm_head/output_kernel:0 changed? True\n",
      "Is mlm_head/output_bias:0 changed? True\n",
      "Is mlm_head/dense/kernel:0 changed? True\n",
      "Is mlm_head/dense/bias:0 changed? True\n",
      "Is mlm_head/layer_normalization/gamma:0 changed? True\n",
      "Is mlm_head/layer_normalization/beta:0 changed? True\n",
      "Is beta1_power:0 changed? False\n",
      "Is beta2_power:0 changed? True\n",
      "Is w1/Adam:0 changed? True\n",
      "Is w1/Adam_1:0 changed? True\n",
      "Is b1/Adam:0 changed? True\n",
      "Is b1/Adam_1:0 changed? True\n",
      "Is w1_v/Adam:0 changed? True\n",
      "Is w1_v/Adam_1:0 changed? True\n",
      "Is b1_v/Adam:0 changed? True\n",
      "Is b1_v/Adam_1:0 changed? True\n",
      "Is w1_k/Adam:0 changed? True\n",
      "Is w1_k/Adam_1:0 changed? True\n",
      "Is b1_k/Adam:0 changed? True\n",
      "Is b1_k/Adam_1:0 changed? True\n",
      "Is w1_q/Adam:0 changed? True\n",
      "Is w1_q/Adam_1:0 changed? True\n",
      "Is b1_q/Adam:0 changed? True\n",
      "Is b1_q/Adam_1:0 changed? True\n",
      "Is w1_final/Adam:0 changed? True\n",
      "Is w1_final/Adam_1:0 changed? True\n",
      "Is b1_final/Adam:0 changed? True\n",
      "Is b1_final/Adam_1:0 changed? True\n",
      "Is w1_ffn/Adam:0 changed? True\n",
      "Is w1_ffn/Adam_1:0 changed? True\n",
      "Is b1_ffn/Adam:0 changed? True\n",
      "Is b1_ffn/Adam_1:0 changed? True\n",
      "Is w2_ffn/Adam:0 changed? True\n",
      "Is w2_ffn/Adam_1:0 changed? True\n",
      "Is b2_ffn/Adam:0 changed? True\n",
      "Is b2_ffn/Adam_1:0 changed? True\n",
      "Is mlm_head/output_kernel/Adam:0 changed? True\n",
      "Is mlm_head/output_kernel/Adam_1:0 changed? True\n",
      "Is mlm_head/output_bias/Adam:0 changed? True\n",
      "Is mlm_head/output_bias/Adam_1:0 changed? True\n",
      "Is mlm_head/dense/kernel/Adam:0 changed? True\n",
      "Is mlm_head/dense/kernel/Adam_1:0 changed? True\n",
      "Is mlm_head/dense/bias/Adam:0 changed? True\n",
      "Is mlm_head/dense/bias/Adam_1:0 changed? True\n",
      "Is mlm_head/layer_normalization/gamma/Adam:0 changed? True\n",
      "Is mlm_head/layer_normalization/gamma/Adam_1:0 changed? True\n",
      "Is mlm_head/layer_normalization/beta/Adam:0 changed? True\n",
      "Is mlm_head/layer_normalization/beta/Adam_1:0 changed? True\n",
      "35\n",
      "35\n",
      "35\n"
     ]
    },
    {
     "name": "stderr",
     "output_type": "stream",
     "text": [
      " 55%|███████████████████████████████████████████████████████████████▎                                                   | 5503/10000 [04:00<03:35, 20.87it/s]"
     ]
    },
    {
     "name": "stdout",
     "output_type": "stream",
     "text": [
      "Is w1:0 changed? True\n",
      "Is b1:0 changed? True\n",
      "Is w1_v:0 changed? True\n",
      "Is b1_v:0 changed? True\n",
      "Is w1_k:0 changed? True\n",
      "Is b1_k:0 changed? False\n",
      "Is w1_q:0 changed? True\n",
      "Is b1_q:0 changed? True\n",
      "Is w1_final:0 changed? True\n",
      "Is b1_final:0 changed? False\n",
      "Is w1_ffn:0 changed? True\n",
      "Is b1_ffn:0 changed? True\n",
      "Is w2_ffn:0 changed? True\n",
      "Is b2_ffn:0 changed? True\n",
      "Is mlm_head/output_kernel:0 changed? True\n",
      "Is mlm_head/output_bias:0 changed? True\n",
      "Is mlm_head/dense/kernel:0 changed? True\n",
      "Is mlm_head/dense/bias:0 changed? True\n",
      "Is mlm_head/layer_normalization/gamma:0 changed? True\n",
      "Is mlm_head/layer_normalization/beta:0 changed? True\n",
      "Is beta1_power:0 changed? False\n",
      "Is beta2_power:0 changed? True\n",
      "Is w1/Adam:0 changed? True\n",
      "Is w1/Adam_1:0 changed? True\n",
      "Is b1/Adam:0 changed? True\n",
      "Is b1/Adam_1:0 changed? True\n",
      "Is w1_v/Adam:0 changed? True\n",
      "Is w1_v/Adam_1:0 changed? True\n",
      "Is b1_v/Adam:0 changed? True\n",
      "Is b1_v/Adam_1:0 changed? True\n",
      "Is w1_k/Adam:0 changed? True\n",
      "Is w1_k/Adam_1:0 changed? True\n",
      "Is b1_k/Adam:0 changed? True\n",
      "Is b1_k/Adam_1:0 changed? True\n",
      "Is w1_q/Adam:0 changed? True\n",
      "Is w1_q/Adam_1:0 changed? True\n",
      "Is b1_q/Adam:0 changed? True\n",
      "Is b1_q/Adam_1:0 changed? True\n",
      "Is w1_final/Adam:0 changed? True\n",
      "Is w1_final/Adam_1:0 changed? True\n",
      "Is b1_final/Adam:0 changed? True\n",
      "Is b1_final/Adam_1:0 changed? True\n",
      "Is w1_ffn/Adam:0 changed? True\n",
      "Is w1_ffn/Adam_1:0 changed? True\n",
      "Is b1_ffn/Adam:0 changed? True\n",
      "Is b1_ffn/Adam_1:0 changed? True\n",
      "Is w2_ffn/Adam:0 changed? True\n",
      "Is w2_ffn/Adam_1:0 changed? True\n",
      "Is b2_ffn/Adam:0 changed? True\n",
      "Is b2_ffn/Adam_1:0 changed? True\n",
      "Is mlm_head/output_kernel/Adam:0 changed? True\n",
      "Is mlm_head/output_kernel/Adam_1:0 changed? True\n",
      "Is mlm_head/output_bias/Adam:0 changed? True\n",
      "Is mlm_head/output_bias/Adam_1:0 changed? True\n",
      "Is mlm_head/dense/kernel/Adam:0 changed? True\n",
      "Is mlm_head/dense/kernel/Adam_1:0 changed? True\n",
      "Is mlm_head/dense/bias/Adam:0 changed? True\n",
      "Is mlm_head/dense/bias/Adam_1:0 changed? True\n",
      "Is mlm_head/layer_normalization/gamma/Adam:0 changed? True\n",
      "Is mlm_head/layer_normalization/gamma/Adam_1:0 changed? True\n",
      "Is mlm_head/layer_normalization/beta/Adam:0 changed? True\n",
      "Is mlm_head/layer_normalization/beta/Adam_1:0 changed? True\n",
      "35\n",
      "35\n",
      "35\n"
     ]
    },
    {
     "name": "stderr",
     "output_type": "stream",
     "text": [
      " 60%|█████████████████████████████████████████████████████████████████████                                              | 6004/10000 [04:22<03:11, 20.82it/s]"
     ]
    },
    {
     "name": "stdout",
     "output_type": "stream",
     "text": [
      "Is w1:0 changed? True\n",
      "Is b1:0 changed? True\n",
      "Is w1_v:0 changed? True\n",
      "Is b1_v:0 changed? True\n",
      "Is w1_k:0 changed? True\n",
      "Is b1_k:0 changed? False\n",
      "Is w1_q:0 changed? True\n",
      "Is b1_q:0 changed? True\n",
      "Is w1_final:0 changed? True\n",
      "Is b1_final:0 changed? False\n",
      "Is w1_ffn:0 changed? True\n",
      "Is b1_ffn:0 changed? True\n",
      "Is w2_ffn:0 changed? True\n",
      "Is b2_ffn:0 changed? True\n",
      "Is mlm_head/output_kernel:0 changed? True\n",
      "Is mlm_head/output_bias:0 changed? True\n",
      "Is mlm_head/dense/kernel:0 changed? True\n",
      "Is mlm_head/dense/bias:0 changed? True\n",
      "Is mlm_head/layer_normalization/gamma:0 changed? True\n",
      "Is mlm_head/layer_normalization/beta:0 changed? True\n",
      "Is beta1_power:0 changed? False\n",
      "Is beta2_power:0 changed? True\n",
      "Is w1/Adam:0 changed? True\n",
      "Is w1/Adam_1:0 changed? True\n",
      "Is b1/Adam:0 changed? True\n",
      "Is b1/Adam_1:0 changed? True\n",
      "Is w1_v/Adam:0 changed? True\n",
      "Is w1_v/Adam_1:0 changed? True\n",
      "Is b1_v/Adam:0 changed? True\n",
      "Is b1_v/Adam_1:0 changed? True\n",
      "Is w1_k/Adam:0 changed? True\n",
      "Is w1_k/Adam_1:0 changed? True\n",
      "Is b1_k/Adam:0 changed? True\n",
      "Is b1_k/Adam_1:0 changed? True\n",
      "Is w1_q/Adam:0 changed? True\n",
      "Is w1_q/Adam_1:0 changed? True\n",
      "Is b1_q/Adam:0 changed? True\n",
      "Is b1_q/Adam_1:0 changed? True\n",
      "Is w1_final/Adam:0 changed? True\n",
      "Is w1_final/Adam_1:0 changed? True\n",
      "Is b1_final/Adam:0 changed? True\n",
      "Is b1_final/Adam_1:0 changed? True\n",
      "Is w1_ffn/Adam:0 changed? True\n",
      "Is w1_ffn/Adam_1:0 changed? True\n",
      "Is b1_ffn/Adam:0 changed? True\n",
      "Is b1_ffn/Adam_1:0 changed? True\n",
      "Is w2_ffn/Adam:0 changed? True\n",
      "Is w2_ffn/Adam_1:0 changed? True\n",
      "Is b2_ffn/Adam:0 changed? True\n",
      "Is b2_ffn/Adam_1:0 changed? True\n",
      "Is mlm_head/output_kernel/Adam:0 changed? True\n",
      "Is mlm_head/output_kernel/Adam_1:0 changed? True\n",
      "Is mlm_head/output_bias/Adam:0 changed? True\n",
      "Is mlm_head/output_bias/Adam_1:0 changed? True\n",
      "Is mlm_head/dense/kernel/Adam:0 changed? True\n",
      "Is mlm_head/dense/kernel/Adam_1:0 changed? True\n",
      "Is mlm_head/dense/bias/Adam:0 changed? True\n",
      "Is mlm_head/dense/bias/Adam_1:0 changed? True\n",
      "Is mlm_head/layer_normalization/gamma/Adam:0 changed? True\n",
      "Is mlm_head/layer_normalization/gamma/Adam_1:0 changed? True\n",
      "Is mlm_head/layer_normalization/beta/Adam:0 changed? True\n",
      "Is mlm_head/layer_normalization/beta/Adam_1:0 changed? True\n",
      "35\n",
      "35\n",
      "35\n"
     ]
    },
    {
     "name": "stderr",
     "output_type": "stream",
     "text": [
      " 63%|████████████████████████████████████████████████████████████████████████▊                                          | 6327/10000 [04:36<02:40, 22.89it/s]\n"
     ]
    },
    {
     "ename": "KeyboardInterrupt",
     "evalue": "",
     "output_type": "error",
     "traceback": [
      "\u001b[1;31m---------------------------------------------------------------------------\u001b[0m",
      "\u001b[1;31mKeyboardInterrupt\u001b[0m                         Traceback (most recent call last)",
      "Input \u001b[1;32mIn [14]\u001b[0m, in \u001b[0;36m<cell line: 15>\u001b[1;34m()\u001b[0m\n\u001b[0;32m     14\u001b[0m new_var \u001b[38;5;241m=\u001b[39m {}\n\u001b[0;32m     15\u001b[0m \u001b[38;5;28;01mfor\u001b[39;00m epoch \u001b[38;5;129;01min\u001b[39;00m tqdm(\u001b[38;5;28mrange\u001b[39m(\u001b[38;5;241m10000\u001b[39m)):\n\u001b[1;32m---> 16\u001b[0m     _,loss_val \u001b[38;5;241m=\u001b[39m \u001b[43msess\u001b[49m\u001b[38;5;241;43m.\u001b[39;49m\u001b[43mrun\u001b[49m\u001b[43m(\u001b[49m\u001b[43m[\u001b[49m\u001b[43mtrain\u001b[49m\u001b[43m,\u001b[49m\u001b[43mloss\u001b[49m\u001b[43m]\u001b[49m\u001b[43m,\u001b[49m\u001b[43m \u001b[49m\u001b[43mfeed_dict\u001b[49m\u001b[38;5;241;43m=\u001b[39;49m\u001b[43m{\u001b[49m\u001b[43minputs\u001b[49m\u001b[43m:\u001b[49m\u001b[43minput_d\u001b[49m\u001b[43m}\u001b[49m\u001b[43m)\u001b[49m\n\u001b[0;32m     18\u001b[0m     \u001b[38;5;28;01mif\u001b[39;00m epoch \u001b[38;5;241m%\u001b[39m \u001b[38;5;241m500\u001b[39m \u001b[38;5;241m==\u001b[39m \u001b[38;5;241m0\u001b[39m:\n\u001b[0;32m     19\u001b[0m         \u001b[38;5;28;01mfor\u001b[39;00m var \u001b[38;5;129;01min\u001b[39;00m tf\u001b[38;5;241m.\u001b[39mcompat\u001b[38;5;241m.\u001b[39mv1\u001b[38;5;241m.\u001b[39mglobal_variables():\n",
      "File \u001b[1;32mD:\\Transformers Implementation\\English to Hindi\\transformers\\lib\\site-packages\\tensorflow\\python\\client\\session.py:968\u001b[0m, in \u001b[0;36mBaseSession.run\u001b[1;34m(self, fetches, feed_dict, options, run_metadata)\u001b[0m\n\u001b[0;32m    965\u001b[0m run_metadata_ptr \u001b[38;5;241m=\u001b[39m tf_session\u001b[38;5;241m.\u001b[39mTF_NewBuffer() \u001b[38;5;28;01mif\u001b[39;00m run_metadata \u001b[38;5;28;01melse\u001b[39;00m \u001b[38;5;28;01mNone\u001b[39;00m\n\u001b[0;32m    967\u001b[0m \u001b[38;5;28;01mtry\u001b[39;00m:\n\u001b[1;32m--> 968\u001b[0m   result \u001b[38;5;241m=\u001b[39m \u001b[38;5;28;43mself\u001b[39;49m\u001b[38;5;241;43m.\u001b[39;49m\u001b[43m_run\u001b[49m\u001b[43m(\u001b[49m\u001b[38;5;28;43;01mNone\u001b[39;49;00m\u001b[43m,\u001b[49m\u001b[43m \u001b[49m\u001b[43mfetches\u001b[49m\u001b[43m,\u001b[49m\u001b[43m \u001b[49m\u001b[43mfeed_dict\u001b[49m\u001b[43m,\u001b[49m\u001b[43m \u001b[49m\u001b[43moptions_ptr\u001b[49m\u001b[43m,\u001b[49m\n\u001b[0;32m    969\u001b[0m \u001b[43m                     \u001b[49m\u001b[43mrun_metadata_ptr\u001b[49m\u001b[43m)\u001b[49m\n\u001b[0;32m    970\u001b[0m   \u001b[38;5;28;01mif\u001b[39;00m run_metadata:\n\u001b[0;32m    971\u001b[0m     proto_data \u001b[38;5;241m=\u001b[39m tf_session\u001b[38;5;241m.\u001b[39mTF_GetBuffer(run_metadata_ptr)\n",
      "File \u001b[1;32mD:\\Transformers Implementation\\English to Hindi\\transformers\\lib\\site-packages\\tensorflow\\python\\client\\session.py:1191\u001b[0m, in \u001b[0;36mBaseSession._run\u001b[1;34m(self, handle, fetches, feed_dict, options, run_metadata)\u001b[0m\n\u001b[0;32m   1188\u001b[0m \u001b[38;5;66;03m# We only want to really perform the run if fetches or targets are provided,\u001b[39;00m\n\u001b[0;32m   1189\u001b[0m \u001b[38;5;66;03m# or if the call is a partial run that specifies feeds.\u001b[39;00m\n\u001b[0;32m   1190\u001b[0m \u001b[38;5;28;01mif\u001b[39;00m final_fetches \u001b[38;5;129;01mor\u001b[39;00m final_targets \u001b[38;5;129;01mor\u001b[39;00m (handle \u001b[38;5;129;01mand\u001b[39;00m feed_dict_tensor):\n\u001b[1;32m-> 1191\u001b[0m   results \u001b[38;5;241m=\u001b[39m \u001b[38;5;28;43mself\u001b[39;49m\u001b[38;5;241;43m.\u001b[39;49m\u001b[43m_do_run\u001b[49m\u001b[43m(\u001b[49m\u001b[43mhandle\u001b[49m\u001b[43m,\u001b[49m\u001b[43m \u001b[49m\u001b[43mfinal_targets\u001b[49m\u001b[43m,\u001b[49m\u001b[43m \u001b[49m\u001b[43mfinal_fetches\u001b[49m\u001b[43m,\u001b[49m\n\u001b[0;32m   1192\u001b[0m \u001b[43m                         \u001b[49m\u001b[43mfeed_dict_tensor\u001b[49m\u001b[43m,\u001b[49m\u001b[43m \u001b[49m\u001b[43moptions\u001b[49m\u001b[43m,\u001b[49m\u001b[43m \u001b[49m\u001b[43mrun_metadata\u001b[49m\u001b[43m)\u001b[49m\n\u001b[0;32m   1193\u001b[0m \u001b[38;5;28;01melse\u001b[39;00m:\n\u001b[0;32m   1194\u001b[0m   results \u001b[38;5;241m=\u001b[39m []\n",
      "File \u001b[1;32mD:\\Transformers Implementation\\English to Hindi\\transformers\\lib\\site-packages\\tensorflow\\python\\client\\session.py:1371\u001b[0m, in \u001b[0;36mBaseSession._do_run\u001b[1;34m(self, handle, target_list, fetch_list, feed_dict, options, run_metadata)\u001b[0m\n\u001b[0;32m   1368\u001b[0m   \u001b[38;5;28;01mreturn\u001b[39;00m \u001b[38;5;28mself\u001b[39m\u001b[38;5;241m.\u001b[39m_call_tf_sessionprun(handle, feed_dict, fetch_list)\n\u001b[0;32m   1370\u001b[0m \u001b[38;5;28;01mif\u001b[39;00m handle \u001b[38;5;129;01mis\u001b[39;00m \u001b[38;5;28;01mNone\u001b[39;00m:\n\u001b[1;32m-> 1371\u001b[0m   \u001b[38;5;28;01mreturn\u001b[39;00m \u001b[38;5;28;43mself\u001b[39;49m\u001b[38;5;241;43m.\u001b[39;49m\u001b[43m_do_call\u001b[49m\u001b[43m(\u001b[49m\u001b[43m_run_fn\u001b[49m\u001b[43m,\u001b[49m\u001b[43m \u001b[49m\u001b[43mfeeds\u001b[49m\u001b[43m,\u001b[49m\u001b[43m \u001b[49m\u001b[43mfetches\u001b[49m\u001b[43m,\u001b[49m\u001b[43m \u001b[49m\u001b[43mtargets\u001b[49m\u001b[43m,\u001b[49m\u001b[43m \u001b[49m\u001b[43moptions\u001b[49m\u001b[43m,\u001b[49m\n\u001b[0;32m   1372\u001b[0m \u001b[43m                       \u001b[49m\u001b[43mrun_metadata\u001b[49m\u001b[43m)\u001b[49m\n\u001b[0;32m   1373\u001b[0m \u001b[38;5;28;01melse\u001b[39;00m:\n\u001b[0;32m   1374\u001b[0m   \u001b[38;5;28;01mreturn\u001b[39;00m \u001b[38;5;28mself\u001b[39m\u001b[38;5;241m.\u001b[39m_do_call(_prun_fn, handle, feeds, fetches)\n",
      "File \u001b[1;32mD:\\Transformers Implementation\\English to Hindi\\transformers\\lib\\site-packages\\tensorflow\\python\\client\\session.py:1378\u001b[0m, in \u001b[0;36mBaseSession._do_call\u001b[1;34m(self, fn, *args)\u001b[0m\n\u001b[0;32m   1376\u001b[0m \u001b[38;5;28;01mdef\u001b[39;00m \u001b[38;5;21m_do_call\u001b[39m(\u001b[38;5;28mself\u001b[39m, fn, \u001b[38;5;241m*\u001b[39margs):\n\u001b[0;32m   1377\u001b[0m   \u001b[38;5;28;01mtry\u001b[39;00m:\n\u001b[1;32m-> 1378\u001b[0m     \u001b[38;5;28;01mreturn\u001b[39;00m \u001b[43mfn\u001b[49m\u001b[43m(\u001b[49m\u001b[38;5;241;43m*\u001b[39;49m\u001b[43margs\u001b[49m\u001b[43m)\u001b[49m\n\u001b[0;32m   1379\u001b[0m   \u001b[38;5;28;01mexcept\u001b[39;00m errors\u001b[38;5;241m.\u001b[39mOpError \u001b[38;5;28;01mas\u001b[39;00m e:\n\u001b[0;32m   1380\u001b[0m     message \u001b[38;5;241m=\u001b[39m compat\u001b[38;5;241m.\u001b[39mas_text(e\u001b[38;5;241m.\u001b[39mmessage)\n",
      "File \u001b[1;32mD:\\Transformers Implementation\\English to Hindi\\transformers\\lib\\site-packages\\tensorflow\\python\\client\\session.py:1361\u001b[0m, in \u001b[0;36mBaseSession._do_run.<locals>._run_fn\u001b[1;34m(feed_dict, fetch_list, target_list, options, run_metadata)\u001b[0m\n\u001b[0;32m   1358\u001b[0m \u001b[38;5;28;01mdef\u001b[39;00m \u001b[38;5;21m_run_fn\u001b[39m(feed_dict, fetch_list, target_list, options, run_metadata):\n\u001b[0;32m   1359\u001b[0m   \u001b[38;5;66;03m# Ensure any changes to the graph are reflected in the runtime.\u001b[39;00m\n\u001b[0;32m   1360\u001b[0m   \u001b[38;5;28mself\u001b[39m\u001b[38;5;241m.\u001b[39m_extend_graph()\n\u001b[1;32m-> 1361\u001b[0m   \u001b[38;5;28;01mreturn\u001b[39;00m \u001b[38;5;28;43mself\u001b[39;49m\u001b[38;5;241;43m.\u001b[39;49m\u001b[43m_call_tf_sessionrun\u001b[49m\u001b[43m(\u001b[49m\u001b[43moptions\u001b[49m\u001b[43m,\u001b[49m\u001b[43m \u001b[49m\u001b[43mfeed_dict\u001b[49m\u001b[43m,\u001b[49m\u001b[43m \u001b[49m\u001b[43mfetch_list\u001b[49m\u001b[43m,\u001b[49m\n\u001b[0;32m   1362\u001b[0m \u001b[43m                                  \u001b[49m\u001b[43mtarget_list\u001b[49m\u001b[43m,\u001b[49m\u001b[43m \u001b[49m\u001b[43mrun_metadata\u001b[49m\u001b[43m)\u001b[49m\n",
      "File \u001b[1;32mD:\\Transformers Implementation\\English to Hindi\\transformers\\lib\\site-packages\\tensorflow\\python\\client\\session.py:1454\u001b[0m, in \u001b[0;36mBaseSession._call_tf_sessionrun\u001b[1;34m(self, options, feed_dict, fetch_list, target_list, run_metadata)\u001b[0m\n\u001b[0;32m   1452\u001b[0m \u001b[38;5;28;01mdef\u001b[39;00m \u001b[38;5;21m_call_tf_sessionrun\u001b[39m(\u001b[38;5;28mself\u001b[39m, options, feed_dict, fetch_list, target_list,\n\u001b[0;32m   1453\u001b[0m                         run_metadata):\n\u001b[1;32m-> 1454\u001b[0m   \u001b[38;5;28;01mreturn\u001b[39;00m \u001b[43mtf_session\u001b[49m\u001b[38;5;241;43m.\u001b[39;49m\u001b[43mTF_SessionRun_wrapper\u001b[49m\u001b[43m(\u001b[49m\u001b[38;5;28;43mself\u001b[39;49m\u001b[38;5;241;43m.\u001b[39;49m\u001b[43m_session\u001b[49m\u001b[43m,\u001b[49m\u001b[43m \u001b[49m\u001b[43moptions\u001b[49m\u001b[43m,\u001b[49m\u001b[43m \u001b[49m\u001b[43mfeed_dict\u001b[49m\u001b[43m,\u001b[49m\n\u001b[0;32m   1455\u001b[0m \u001b[43m                                          \u001b[49m\u001b[43mfetch_list\u001b[49m\u001b[43m,\u001b[49m\u001b[43m \u001b[49m\u001b[43mtarget_list\u001b[49m\u001b[43m,\u001b[49m\n\u001b[0;32m   1456\u001b[0m \u001b[43m                                          \u001b[49m\u001b[43mrun_metadata\u001b[49m\u001b[43m)\u001b[49m\n",
      "\u001b[1;31mKeyboardInterrupt\u001b[0m: "
     ]
    }
   ],
   "source": [
    "init_op = tf.compat.v1.global_variables_initializer()\n",
    "sess.run(init_op)\n",
    "from tqdm import tqdm\n",
    "\n",
    "def predict():\n",
    "    o = outputs.eval(session=sess, feed_dict={inputs:input_d})\n",
    "    for i in o[0]:\n",
    "        print(np.argmax(i))\n",
    "old_var = {}\n",
    "for var in tf.compat.v1.global_variables():\n",
    "    old_var[var.name] = sess.run(var)\n",
    "    #print (var.name, sess.run(var))\n",
    "\n",
    "new_var = {}\n",
    "for epoch in tqdm(range(10000)):\n",
    "    _,loss_val = sess.run([train,loss], feed_dict={inputs:input_d})\n",
    "    \n",
    "    if epoch % 500 == 0:\n",
    "        for var in tf.compat.v1.global_variables():\n",
    "            new_var[var.name] = sess.run(var)\n",
    "        for vname in new_var:\n",
    "            eq = np.array_equal(old_var[vname], new_var[vname])\n",
    "            print('Is {} changed? {}'.format(vname, not eq))\n",
    "           \n",
    "            old_var[vname] = new_var[vname]\n",
    "        \n",
    "        predict()"
   ]
  },
  {
   "cell_type": "code",
   "execution_count": 15,
   "id": "90ce7e34-5b1e-43af-9c26-a3a718499e22",
   "metadata": {},
   "outputs": [
    {
     "data": {
      "text/plain": [
       "[<tf.Variable 'w1:0' shape=(100, 128) dtype=float32>,\n",
       " <tf.Variable 'b1:0' shape=(1, 128) dtype=float32>,\n",
       " <tf.Variable 'w1_v:0' shape=(128, 128) dtype=float32>,\n",
       " <tf.Variable 'b1_v:0' shape=(1, 128) dtype=float32>,\n",
       " <tf.Variable 'w1_k:0' shape=(128, 128) dtype=float32>,\n",
       " <tf.Variable 'b1_k:0' shape=(1, 128) dtype=float32>,\n",
       " <tf.Variable 'w1_q:0' shape=(128, 128) dtype=float32>,\n",
       " <tf.Variable 'b1_q:0' shape=(1, 128) dtype=float32>,\n",
       " <tf.Variable 'w1_final:0' shape=(128, 128) dtype=float32>,\n",
       " <tf.Variable 'b1_final:0' shape=(1, 128) dtype=float32>,\n",
       " <tf.Variable 'w1_ffn:0' shape=(128, 512) dtype=float32>,\n",
       " <tf.Variable 'b1_ffn:0' shape=(1, 512) dtype=float32>,\n",
       " <tf.Variable 'w2_ffn:0' shape=(512, 128) dtype=float32>,\n",
       " <tf.Variable 'b2_ffn:0' shape=(1, 128) dtype=float32>,\n",
       " <tf.Variable 'mlm_head/output_kernel:0' shape=(128, 100) dtype=float32>,\n",
       " <tf.Variable 'mlm_head/output_bias:0' shape=(100,) dtype=float32>,\n",
       " <tf.Variable 'mlm_head/dense/kernel:0' shape=(128, 128) dtype=float32>,\n",
       " <tf.Variable 'mlm_head/dense/bias:0' shape=(128,) dtype=float32>,\n",
       " <tf.Variable 'mlm_head/layer_normalization/gamma:0' shape=(128,) dtype=float32>,\n",
       " <tf.Variable 'mlm_head/layer_normalization/beta:0' shape=(128,) dtype=float32>,\n",
       " <tf.Variable 'beta1_power:0' shape=() dtype=float32>,\n",
       " <tf.Variable 'beta2_power:0' shape=() dtype=float32>,\n",
       " <tf.Variable 'w1/Adam:0' shape=(100, 128) dtype=float32>,\n",
       " <tf.Variable 'w1/Adam_1:0' shape=(100, 128) dtype=float32>,\n",
       " <tf.Variable 'b1/Adam:0' shape=(1, 128) dtype=float32>,\n",
       " <tf.Variable 'b1/Adam_1:0' shape=(1, 128) dtype=float32>,\n",
       " <tf.Variable 'w1_v/Adam:0' shape=(128, 128) dtype=float32>,\n",
       " <tf.Variable 'w1_v/Adam_1:0' shape=(128, 128) dtype=float32>,\n",
       " <tf.Variable 'b1_v/Adam:0' shape=(1, 128) dtype=float32>,\n",
       " <tf.Variable 'b1_v/Adam_1:0' shape=(1, 128) dtype=float32>,\n",
       " <tf.Variable 'w1_k/Adam:0' shape=(128, 128) dtype=float32>,\n",
       " <tf.Variable 'w1_k/Adam_1:0' shape=(128, 128) dtype=float32>,\n",
       " <tf.Variable 'b1_k/Adam:0' shape=(1, 128) dtype=float32>,\n",
       " <tf.Variable 'b1_k/Adam_1:0' shape=(1, 128) dtype=float32>,\n",
       " <tf.Variable 'w1_q/Adam:0' shape=(128, 128) dtype=float32>,\n",
       " <tf.Variable 'w1_q/Adam_1:0' shape=(128, 128) dtype=float32>,\n",
       " <tf.Variable 'b1_q/Adam:0' shape=(1, 128) dtype=float32>,\n",
       " <tf.Variable 'b1_q/Adam_1:0' shape=(1, 128) dtype=float32>,\n",
       " <tf.Variable 'w1_final/Adam:0' shape=(128, 128) dtype=float32>,\n",
       " <tf.Variable 'w1_final/Adam_1:0' shape=(128, 128) dtype=float32>,\n",
       " <tf.Variable 'b1_final/Adam:0' shape=(1, 128) dtype=float32>,\n",
       " <tf.Variable 'b1_final/Adam_1:0' shape=(1, 128) dtype=float32>,\n",
       " <tf.Variable 'w1_ffn/Adam:0' shape=(128, 512) dtype=float32>,\n",
       " <tf.Variable 'w1_ffn/Adam_1:0' shape=(128, 512) dtype=float32>,\n",
       " <tf.Variable 'b1_ffn/Adam:0' shape=(1, 512) dtype=float32>,\n",
       " <tf.Variable 'b1_ffn/Adam_1:0' shape=(1, 512) dtype=float32>,\n",
       " <tf.Variable 'w2_ffn/Adam:0' shape=(512, 128) dtype=float32>,\n",
       " <tf.Variable 'w2_ffn/Adam_1:0' shape=(512, 128) dtype=float32>,\n",
       " <tf.Variable 'b2_ffn/Adam:0' shape=(1, 128) dtype=float32>,\n",
       " <tf.Variable 'b2_ffn/Adam_1:0' shape=(1, 128) dtype=float32>,\n",
       " <tf.Variable 'mlm_head/output_kernel/Adam:0' shape=(128, 100) dtype=float32>,\n",
       " <tf.Variable 'mlm_head/output_kernel/Adam_1:0' shape=(128, 100) dtype=float32>,\n",
       " <tf.Variable 'mlm_head/output_bias/Adam:0' shape=(100,) dtype=float32>,\n",
       " <tf.Variable 'mlm_head/output_bias/Adam_1:0' shape=(100,) dtype=float32>,\n",
       " <tf.Variable 'mlm_head/dense/kernel/Adam:0' shape=(128, 128) dtype=float32>,\n",
       " <tf.Variable 'mlm_head/dense/kernel/Adam_1:0' shape=(128, 128) dtype=float32>,\n",
       " <tf.Variable 'mlm_head/dense/bias/Adam:0' shape=(128,) dtype=float32>,\n",
       " <tf.Variable 'mlm_head/dense/bias/Adam_1:0' shape=(128,) dtype=float32>,\n",
       " <tf.Variable 'mlm_head/layer_normalization/gamma/Adam:0' shape=(128,) dtype=float32>,\n",
       " <tf.Variable 'mlm_head/layer_normalization/gamma/Adam_1:0' shape=(128,) dtype=float32>,\n",
       " <tf.Variable 'mlm_head/layer_normalization/beta/Adam:0' shape=(128,) dtype=float32>,\n",
       " <tf.Variable 'mlm_head/layer_normalization/beta/Adam_1:0' shape=(128,) dtype=float32>]"
      ]
     },
     "execution_count": 15,
     "metadata": {},
     "output_type": "execute_result"
    }
   ],
   "source": [
    "tf.compat.v1.global_variables()"
   ]
  },
  {
   "cell_type": "code",
   "execution_count": 44,
   "id": "7405a923-0486-41ce-b9a5-e5b381408ee9",
   "metadata": {},
   "outputs": [],
   "source": [
    "tf.compat.v1.reset_default_graph()"
   ]
  },
  {
   "cell_type": "code",
   "execution_count": 36,
   "id": "0366bf98-f4c1-4180-9bd5-7cc9eedaa4a0",
   "metadata": {},
   "outputs": [],
   "source": [
    "import keras_nlp\n",
    "encoder = keras_nlp.layers.TransformerEncoder(\n",
    "    128,\n",
    "    1,\n",
    "    dropout=0,\n",
    "    activation=\"relu\",\n",
    "    layer_norm_epsilon=1e-05,\n",
    "    kernel_initializer=\"glorot_uniform\",\n",
    "    bias_initializer=\"zeros\",\n",
    "    name=None,\n",
    "  \n",
    ")"
   ]
  },
  {
   "cell_type": "code",
   "execution_count": 32,
   "id": "9d4e5254-dfcd-4f6d-b169-b5268b6776c9",
   "metadata": {},
   "outputs": [],
   "source": [
    "sess = tf.compat.v1.Session()\n",
    "init_op = tf.compat.v1.global_variables_initializer()\n",
    "sess.run(init_op)\n",
    "input_to_layer = embedding.eval(session=sess, feed_dict={holder:X})"
   ]
  },
  {
   "cell_type": "code",
   "execution_count": 34,
   "id": "572a8b38-70f4-464c-8735-588cbca179fa",
   "metadata": {},
   "outputs": [
    {
     "data": {
      "text/plain": [
       "(1, 10, 128)"
      ]
     },
     "execution_count": 34,
     "metadata": {},
     "output_type": "execute_result"
    }
   ],
   "source": [
    "input_to_layer.shape"
   ]
  },
  {
   "cell_type": "code",
   "execution_count": 38,
   "id": "db8f0471-3b0e-4b7d-bb5e-c0b8fe6c9091",
   "metadata": {},
   "outputs": [],
   "source": [
    "f_out = encoder.call(input_to_layer, padding_mask=None, attention_mask=None)"
   ]
  },
  {
   "cell_type": "code",
   "execution_count": 41,
   "id": "a17f787c-200f-44f1-a5e9-2253e116adb2",
   "metadata": {},
   "outputs": [],
   "source": [
    "init_op = tf.compat.v1.global_variables_initializer()\n",
    "sess.run(init_op)"
   ]
  },
  {
   "cell_type": "code",
   "execution_count": 45,
   "id": "cee293f1-e6fc-454b-862e-2053c7fb319b",
   "metadata": {},
   "outputs": [],
   "source": [
    "f_o = f_out.eval(session=sess)"
   ]
  },
  {
   "cell_type": "code",
   "execution_count": 48,
   "id": "32c80975-a362-420a-b6dc-26389b96ffb9",
   "metadata": {},
   "outputs": [],
   "source": [
    "f_o = tf.reshape(f_o, shape=(10,128))"
   ]
  },
  {
   "cell_type": "code",
   "execution_count": 49,
   "id": "c4cfcf3f-41b7-4827-86d4-6af8c22ace7b",
   "metadata": {},
   "outputs": [],
   "source": [
    "cos_similarity=tf.reduce_sum(tf.multiply(f_o,c_out))"
   ]
  },
  {
   "cell_type": "code",
   "execution_count": 50,
   "id": "ac64c82a-c5aa-438b-94b9-cb84dee2192e",
   "metadata": {},
   "outputs": [
    {
     "data": {
      "text/plain": [
       "649.4424"
      ]
     },
     "execution_count": 50,
     "metadata": {},
     "output_type": "execute_result"
    }
   ],
   "source": [
    "cos_similarity.eval(session=sess)"
   ]
  },
  {
   "cell_type": "code",
   "execution_count": 56,
   "id": "794cd695-775f-4f58-a124-1a36f808fccf",
   "metadata": {},
   "outputs": [
    {
     "name": "stdout",
     "output_type": "stream",
     "text": [
      "[-0.18662688 -0.09735422  0.132056    0.05244209 -0.12421632 -0.0008422\n",
      " -0.06412549 -0.00691351 -0.01556472  0.07759535]\n"
     ]
    }
   ],
   "source": [
    "consine_sim_tensor = tf.keras.losses.cosine_similarity(f_o, c_out, axis=1)\n",
    "print(consine_sim_tensor.eval(session=sess))"
   ]
  },
  {
   "cell_type": "code",
   "execution_count": 60,
   "id": "674b050b-0fd9-4189-8775-792b49781178",
   "metadata": {},
   "outputs": [
    {
     "data": {
      "text/plain": [
       "array([[-1.1633656 ,  0.17171662,  1.5772475 , ...,  1.7072568 ,\n",
       "         1.5345678 , -0.02836636],\n",
       "       [-0.96518475, -0.9572794 ,  0.70188314, ..., -1.2676293 ,\n",
       "        -0.04823527, -1.1615621 ],\n",
       "       [ 0.3574144 , -0.15637252, -1.3399653 , ..., -1.0041462 ,\n",
       "        -1.5953505 ,  0.89177537],\n",
       "       ...,\n",
       "       [-0.70703113, -0.6280987 , -0.30946773, ..., -2.1421354 ,\n",
       "         1.3137548 , -1.4970433 ],\n",
       "       [ 0.70687705, -1.0572319 ,  0.44159675, ..., -0.38401005,\n",
       "        -1.4224805 ,  0.79808384],\n",
       "       [ 0.7266005 , -1.7457584 , -0.23604044, ..., -1.5501529 ,\n",
       "        -0.05093825,  2.1691365 ]], dtype=float32)"
      ]
     },
     "execution_count": 60,
     "metadata": {},
     "output_type": "execute_result"
    }
   ],
   "source": [
    "f_o.eval(session=sess)"
   ]
  },
  {
   "cell_type": "code",
   "execution_count": 61,
   "id": "d2c82426-80d1-4fd5-ac83-c111100a4453",
   "metadata": {},
   "outputs": [
    {
     "data": {
      "text/plain": [
       "array([[-36.09388   , -19.56395   , -25.523483  , ...,  11.174536  ,\n",
       "        -24.891882  ,  15.128203  ],\n",
       "       [-17.063065  ,   4.295271  ,  -1.8326156 , ...,  -6.9336524 ,\n",
       "        -22.078192  ,  -8.146182  ],\n",
       "       [-59.20379   ,  14.263128  , -43.752647  , ...,  10.114726  ,\n",
       "          9.877046  , -16.747732  ],\n",
       "       ...,\n",
       "       [-15.56783   ,   1.8150638 ,  -1.8999181 , ...,  -8.186241  ,\n",
       "        -24.307268  ,  -5.23777   ],\n",
       "       [ -2.772259  ,   9.414139  ,  -6.3811827 , ...,   5.941459  ,\n",
       "        -22.654121  ,  19.697935  ],\n",
       "       [-15.006862  ,   3.3074882 ,   0.22777882, ...,  -3.766149  ,\n",
       "        -20.778105  ,  -6.062911  ]], dtype=float32)"
      ]
     },
     "execution_count": 61,
     "metadata": {},
     "output_type": "execute_result"
    }
   ],
   "source": [
    "c_out"
   ]
  },
  {
   "cell_type": "code",
   "execution_count": 91,
   "id": "969aedaf-6280-4dd7-b0ca-358feadf7347",
   "metadata": {},
   "outputs": [],
   "source": [
    "## debugging\n",
    "class EncoderTesting:\n",
    "    \n",
    "    def __new__(self, vocab_size, seq_len, emb_dim, linear_layers_hidden_dim, ffn_hiiden_dim):\n",
    "\n",
    "        # Positional Embeddings calculation\n",
    "        linear_layers_hidden_dim = emb_dim\n",
    "        def sin_positions(pos):\n",
    "            t = tf.multiply(tf.constant(2, dtype=tf.float32), tf.range(0, emb_dim, dtype=tf.float32))\n",
    "            t1 = tf.pow(tf.constant(10000, dtype=tf.float32), tf.divide(t, emb_dim))\n",
    "            position_tensor = tf.fill([1, emb_dim], pos)\n",
    "            sin_fun_input = tf.divide(position_tensor, t1)\n",
    "            sin_output = tf.sin(sin_fun_input)\n",
    "            return sin_output\n",
    "\n",
    "        def cos_positions(pos):\n",
    "            t = tf.multiply(tf.constant(2, dtype=tf.float32), tf.range(0, emb_dim, dtype=tf.float32))\n",
    "            t1 = tf.pow(tf.constant(10000, dtype=tf.float32), tf.divide(t, emb_dim))\n",
    "            position_tensor = tf.fill([1, emb_dim], pos)\n",
    "            sin_fun_input = tf.divide(position_tensor, t1)\n",
    "            cos_output = tf.cos(sin_fun_input)\n",
    "            return cos_output\n",
    "        \n",
    "        positonal_embeddings_han = tf.keras.initializers.GlorotUniform()\n",
    "        positonal_embeddings = positonal_embeddings_han(shape=(seq_len, emb_dim))\n",
    "        # start of embedding graph\n",
    "        # input_data : signature = [1,2]\n",
    "        input_data = tf.compat.v1.placeholder(dtype=tf.int32, shape=(1, seq_len), name='firstInputPlaceholder')\n",
    "        one_hot_encoded = tf.one_hot(input_data, dtype=tf.float32, depth=vocab_size)\n",
    "        \n",
    "\n",
    "        @tf.function\n",
    "        def get_embeddings(input_word):\n",
    "            w1 = tf.Variable(tf.random.normal(shape=(vocab_size, emb_dim)), dtype=tf.float32, name='w1')\n",
    "            b1 = tf.Variable(tf.constant(0.1, shape=(1, emb_dim), dtype=tf.float32), name='b1')\n",
    "            y1 = tf.add(tf.matmul(input_word, w1), b1)\n",
    "            return y1\n",
    "        \n",
    "        for word in tf.unstack(one_hot_encoded):\n",
    "            # print(word.eval(session=sess, feed_dict={input_data:np.asarray([1,2,3,4,5]).reshape((1,5))}))\n",
    "            embeddings = get_embeddings(one_hot_encoded)\n",
    "        \n",
    "        positional_out = tf.add(positonal_embeddings, embeddings)\n",
    "        # init_op = tf.compat.v1.global_variables_initializer()\n",
    "        # sess.run(init_op)\n",
    "        # # end of embedding graph\n",
    "        # return positonal_embeddings,embeddings, input_data\n",
    "        #value linear layer\n",
    "        @tf.function\n",
    "        def multihead():\n",
    "            w1_v = tf.Variable(tf.random.normal(shape=(emb_dim, linear_layers_hidden_dim), dtype=tf.float32), name='w1_v')\n",
    "            b1_v = tf.Variable(tf.constant(0.1, shape=(1, linear_layers_hidden_dim), dtype=tf.float32), name='b1_v')\n",
    "            y1_v = tf.squeeze(tf.add(tf.matmul(positional_out, w1_v), b1_v))\n",
    "\n",
    "            #key linear layer\n",
    "\n",
    "            w1_k = tf.Variable(tf.random.normal(shape=(emb_dim, linear_layers_hidden_dim), dtype=tf.float32), name='w1_k')\n",
    "            b1_k = tf.Variable(tf.constant(0.1, shape=(1, linear_layers_hidden_dim), dtype=tf.float32), name='b1_k')\n",
    "            y1_k = tf.squeeze(tf.add(tf.matmul(positional_out, w1_k), b1_k))\n",
    "            #query linear layer\n",
    "            \n",
    "            w1_q = tf.Variable(tf.random.normal(shape=(emb_dim, linear_layers_hidden_dim), dtype=tf.float32), name='w1_q')\n",
    "            b1_q = tf.Variable(tf.constant(0.1, shape=(1, linear_layers_hidden_dim), dtype=tf.float32), name='b1_q')\n",
    "            y1_q = tf.squeeze(tf.add(tf.matmul(positional_out, w1_q), b1_q))\n",
    "            \n",
    "            transposed_key_mat = tf.transpose(y1_k, name='key_transpose_op')\n",
    "          \n",
    "            attention_filter = tf.divide(tf.matmul(y1_q, transposed_key_mat), tf.sqrt(tf.constant(emb_dim, dtype=tf.float32)), name='attention_filter')\n",
    "            softmaxed_attention_filter = tf.nn.softmax(attention_filter, name='softmax_of_attention_filter')\n",
    "            final_output_of_one_head = tf.matmul(softmaxed_attention_filter, y1_v, name='final_matmul')\n",
    "   \n",
    "            # final linear layer\n",
    "      \n",
    "            w1_final = tf.Variable(tf.random.normal(shape=(linear_layers_hidden_dim, emb_dim), dtype=tf.float32), name='w1_final')\n",
    "            b1_final = tf.Variable(tf.constant(0.1, shape=(1, emb_dim), dtype=tf.float32), name='b1_final')\n",
    "            y1_final = tf.add(tf.matmul(final_output_of_one_head, w1_final), b1_final)\n",
    "\n",
    "            # now onto add and norm layer\n",
    "            \n",
    "            add_op = tf.squeeze(tf.add(positional_out,final_output_of_one_head))\n",
    "            meaned_output = tf.reduce_mean(y1_final, axis=1)\n",
    "            std_output = tf.math.reduce_std(y1_final, axis=0)\n",
    "            x0 = tf.transpose(tf.subtract(tf.transpose(add_op), meaned_output))\n",
    "            divisor = tf.sqrt(tf.add(std_output, tf.constant(0.001, dtype=tf.float32)))\n",
    "            res = tf.divide(x0, divisor)\n",
    "            # finsish add and norm layer\n",
    "\n",
    "            #feed forward network\n",
    "           \n",
    "            w1_ffn = tf.Variable(tf.random.normal(shape=(emb_dim, ffn_hiiden_dim), dtype=tf.float32), name='w1_ffn')\n",
    "            b1_ffn = tf.Variable(tf.constant(0.1, shape=(1, ffn_hiiden_dim), dtype=tf.float32), name='b1_ffn')\n",
    "            y1_ffn = tf.nn.relu(tf.add(tf.matmul(res, w1_ffn), b1_ffn))\n",
    "            w2_ffn = tf.Variable(tf.random.normal(shape=(ffn_hiiden_dim, emb_dim), dtype=tf.float32), name='w2_ffn')\n",
    "            b2_ffn = tf.Variable(tf.constant(0.1, shape=(1, emb_dim), dtype=tf.float32), name='b2_ffn')\n",
    "            y2_ffn = tf.add(tf.matmul(y1_ffn, w2_ffn), b2_ffn)\n",
    "            #end of feed forward neural network\n",
    "            \n",
    "            #now onto final add and norm layer\n",
    "            add_op_final = tf.add(res,y2_ffn)\n",
    "            \n",
    "            meaned_output_final = tf.reduce_mean(y2_ffn, axis=1)\n",
    "\n",
    "            std_output_final = tf.math.reduce_std(y2_ffn, axis=0)\n",
    "            x0_final = tf.transpose(tf.subtract(tf.transpose(add_op_final), meaned_output_final))\n",
    "            divisor_final = tf.sqrt(tf.add(std_output_final, tf.constant(0.001, dtype=tf.float32)))\n",
    "            res_final = tf.divide(x0_final, divisor_final)\n",
    "        \n",
    "            return res_final, y1_k, y1_q, y1_v, final_output_of_one_head, y1_final, res, y2_ffn, res_final\n",
    "        # self.output = multihead()\n",
    "        #here multhead attention finishes\n",
    "        sess = tf.compat.v1.Session()\n",
    "        init_op = tf.compat.v1.global_variables_initializer()\n",
    "        sess.run(init_op)\n",
    "        return positonal_embeddings, embeddings, positional_out, multihead(), input_data\n"
   ]
  },
  {
   "cell_type": "code",
   "execution_count": 92,
   "id": "325f2a6c-140c-4f53-ae37-e6e71a19d716",
   "metadata": {},
   "outputs": [],
   "source": [
    "pos_emb, emb, pos_out, mul, holder = EncoderTesting(10, 5, 128, 128, 512)"
   ]
  },
  {
   "cell_type": "code",
   "execution_count": 93,
   "id": "bf8b06b8-0b99-4448-a39c-2cee441c6007",
   "metadata": {},
   "outputs": [],
   "source": [
    "res_final, y1_k, y1_q, y1_v, final_output_of_one_head, y1_final, res, y2_ffn, res_final = mul"
   ]
  },
  {
   "cell_type": "code",
   "execution_count": 94,
   "id": "26292133-4e66-4916-b387-ac5d133da950",
   "metadata": {},
   "outputs": [],
   "source": [
    "X = np.asarray([[1,2,3,4,5]]).reshape((1,5))"
   ]
  },
  {
   "cell_type": "code",
   "execution_count": 95,
   "id": "919d5b48-3430-47ac-bef1-852dee3c84a6",
   "metadata": {
    "scrolled": true,
    "tags": []
   },
   "outputs": [
    {
     "data": {
      "text/plain": [
       "array([[ 1.19112790e-01, -6.62828684e-02,  1.76260650e-01,\n",
       "        -1.89683929e-01, -1.79134592e-01, -1.27051413e-01,\n",
       "        -6.33557588e-02, -2.10312814e-01, -1.31352484e-01,\n",
       "         1.67602509e-01,  7.88533390e-02,  6.51820600e-02,\n",
       "        -1.39278084e-01, -1.01569735e-01, -1.03701048e-01,\n",
       "         3.58280391e-02,  1.96988285e-01, -1.87659815e-01,\n",
       "        -1.16258264e-02,  8.89385939e-02,  8.33947957e-03,\n",
       "         8.46954286e-02,  9.48023200e-02, -1.31909207e-01,\n",
       "         2.00380236e-02, -2.02437446e-01,  2.00343698e-01,\n",
       "        -4.94529754e-02, -1.98548138e-02, -1.57097787e-01,\n",
       "         9.75144804e-02,  1.17882013e-01,  1.72400892e-01,\n",
       "        -5.18332869e-02, -6.85451031e-02,  1.93771154e-01,\n",
       "        -1.71894550e-01, -3.97080183e-03, -1.55782059e-01,\n",
       "        -1.75406009e-01,  5.95150888e-03, -1.17789686e-01,\n",
       "         8.69387090e-02, -1.93447262e-01, -2.02179953e-01,\n",
       "        -1.84258148e-01,  1.21498317e-01,  9.37012136e-02,\n",
       "         1.23279661e-01,  2.53409445e-02, -5.92620522e-02,\n",
       "        -1.07841395e-01,  1.88416123e-01,  1.74619764e-01,\n",
       "        -9.50265974e-02, -1.18450731e-01, -2.09126741e-01,\n",
       "         1.03542805e-01, -8.62967372e-02,  1.27540797e-01,\n",
       "        -5.59674948e-02,  1.45676494e-01,  4.42468822e-02,\n",
       "         3.51339579e-04, -3.93748283e-03, -1.98889092e-01,\n",
       "         9.26797986e-02,  5.00428081e-02,  1.46854907e-01,\n",
       "        -4.08279449e-02, -1.08413875e-01, -4.52003181e-02,\n",
       "        -5.94669431e-02,  1.09536439e-01,  2.31179744e-02,\n",
       "         8.32083821e-03,  6.77526891e-02,  8.26468468e-02,\n",
       "         4.90073860e-02,  1.44094974e-01,  1.18515551e-01,\n",
       "         1.51032388e-01,  1.07980102e-01, -1.40656531e-03,\n",
       "         1.28359824e-01, -1.90096393e-01, -1.63975641e-01,\n",
       "         7.47571588e-02,  3.30338478e-02, -1.56872034e-01,\n",
       "         8.73878300e-02,  1.45804554e-01,  1.48166716e-03,\n",
       "        -2.08901688e-01, -5.43496162e-02,  5.18661439e-02,\n",
       "         1.05781883e-01,  1.14548385e-01,  1.90019429e-01,\n",
       "         1.67994142e-01,  3.24476510e-02, -5.86857796e-02,\n",
       "         1.44816160e-01, -1.10296197e-01,  2.11805880e-01,\n",
       "         9.13656652e-02,  3.69536579e-02, -1.79451704e-01,\n",
       "         4.66346741e-02, -2.08054692e-01,  8.55455995e-02,\n",
       "        -1.24891527e-01,  1.80158228e-01,  1.83417797e-01,\n",
       "        -1.27518803e-01, -1.48254395e-01,  1.28717750e-01,\n",
       "        -3.12198400e-02, -3.37442756e-02,  2.19281465e-02,\n",
       "        -4.64810878e-02,  1.21237129e-01, -1.23774827e-01,\n",
       "         1.75204217e-01, -1.02525301e-01,  9.55893099e-03,\n",
       "        -1.68182731e-01,  1.03714824e-01],\n",
       "       [ 5.01683950e-02, -8.94616097e-02, -1.31445676e-02,\n",
       "        -1.84521079e-01, -1.09594025e-01, -5.34716249e-02,\n",
       "         3.10826600e-02, -1.67957023e-01,  1.58661783e-01,\n",
       "         1.92401052e-01,  1.54346526e-01,  2.06680596e-03,\n",
       "        -1.40790015e-01, -1.26544297e-01,  1.64109170e-02,\n",
       "         1.46752775e-01, -2.10801184e-01,  2.07729131e-01,\n",
       "         1.01406813e-01, -1.53512239e-01,  2.07903445e-01,\n",
       "        -1.78052217e-01,  4.00832295e-02,  5.97743690e-03,\n",
       "        -8.87180194e-02,  1.30079001e-01, -1.53886214e-01,\n",
       "        -1.69858783e-02, -1.40782267e-01, -5.31316251e-02,\n",
       "         1.71389669e-01, -2.08777621e-01,  7.52308965e-02,\n",
       "         2.05655098e-01, -9.11536813e-02,  7.30190575e-02,\n",
       "        -1.00606419e-01,  6.60908520e-02,  1.02859318e-01,\n",
       "        -6.10531718e-02,  1.38545334e-01, -1.82693899e-02,\n",
       "        -1.59939721e-01, -1.66297257e-02, -1.86355650e-01,\n",
       "        -1.99998796e-01,  9.87913311e-02, -1.05430901e-01,\n",
       "        -3.21217328e-02, -1.85527027e-01, -1.18270658e-01,\n",
       "         1.47526056e-01, -1.18528165e-01,  1.31367117e-01,\n",
       "        -2.10742697e-01,  1.05900526e-01,  8.09147060e-02,\n",
       "         1.40958697e-01, -3.48718464e-03, -4.08864766e-02,\n",
       "        -8.71425867e-03, -5.10963798e-02, -1.89069718e-01,\n",
       "         1.27801746e-01, -1.89814270e-01, -1.51219442e-01,\n",
       "        -1.11462377e-01, -4.84130830e-02,  9.30881500e-02,\n",
       "         1.17265403e-01, -1.19864389e-01, -1.94175810e-01,\n",
       "        -9.29736197e-02,  1.87681347e-01,  3.63373756e-03,\n",
       "        -1.88343227e-03, -1.05502404e-01, -1.91562250e-01,\n",
       "         1.93685412e-01, -1.05213247e-01,  1.57865882e-01,\n",
       "        -2.49360353e-02, -1.33556157e-01, -6.28927052e-02,\n",
       "        -1.95300713e-01, -1.23941988e-01,  1.43005461e-01,\n",
       "        -1.07877851e-01,  5.13711870e-02, -3.23201418e-02,\n",
       "         2.03195482e-01, -1.97012126e-01, -9.13891569e-02,\n",
       "         5.20877540e-02, -8.20925385e-02,  3.91493440e-02,\n",
       "         1.98491305e-01, -1.20471001e-01,  1.26802564e-01,\n",
       "         1.78777039e-01, -1.71613201e-01,  1.95894301e-01,\n",
       "         1.28119439e-01, -5.75327575e-02,  8.19917619e-02,\n",
       "         1.07122958e-03, -1.64586455e-01,  7.33592510e-02,\n",
       "        -2.57127881e-02, -4.79463488e-02,  1.23190284e-01,\n",
       "        -5.91215342e-02, -9.88559574e-02,  2.43105292e-02,\n",
       "         1.85265779e-01,  2.04408705e-01, -3.29157561e-02,\n",
       "         2.12201834e-01,  8.22842121e-05, -4.54576612e-02,\n",
       "        -5.41597158e-02, -6.21967763e-02,  2.24844217e-02,\n",
       "        -7.65106976e-02,  8.49134624e-02,  1.48867577e-01,\n",
       "        -7.10761696e-02, -5.93811572e-02],\n",
       "       [-1.26767218e-01, -1.55479893e-01,  1.42878592e-01,\n",
       "         3.93086374e-02,  1.58717752e-01, -2.01002017e-01,\n",
       "         1.53579861e-01,  1.30180776e-01,  1.13676071e-01,\n",
       "        -1.54732302e-01, -1.46853298e-01, -1.10390641e-01,\n",
       "        -4.56254780e-02, -8.41942430e-02,  2.66171992e-03,\n",
       "         2.11458117e-01, -6.03753626e-02,  1.04202628e-01,\n",
       "        -1.36226639e-01, -8.73495340e-02, -6.01291656e-04,\n",
       "         1.19641870e-01,  9.42882895e-03,  2.03990668e-01,\n",
       "         5.74153364e-02, -1.30646616e-01, -1.46661788e-01,\n",
       "         2.10209697e-01,  1.83793753e-01, -1.43187761e-01,\n",
       "         6.87890649e-02, -8.06013048e-02, -5.14097363e-02,\n",
       "         3.09995562e-02, -1.99191272e-03,  8.78672302e-03,\n",
       "        -1.50559902e-01,  1.85812891e-01, -3.82888168e-02,\n",
       "         3.64712179e-02, -1.06143601e-01, -1.26900256e-01,\n",
       "        -1.36214018e-01, -1.44733831e-01, -1.59871668e-01,\n",
       "         2.23801583e-02,  1.86127156e-01,  6.48436844e-02,\n",
       "         1.75106436e-01, -6.08481318e-02, -1.61772728e-01,\n",
       "         1.96191669e-01,  1.90282702e-01, -1.54748917e-01,\n",
       "         3.57575715e-03,  3.87934446e-02,  1.02771163e-01,\n",
       "         9.91214514e-02, -8.58862549e-02,  3.26169878e-02,\n",
       "         8.38505924e-02,  1.33353502e-01, -1.41640663e-01,\n",
       "         1.66378886e-01, -2.00825796e-01, -1.99725091e-01,\n",
       "        -2.32560188e-02, -4.18099463e-02, -4.23619598e-02,\n",
       "         1.84890747e-01, -1.19729482e-01, -9.21737179e-02,\n",
       "        -1.05240896e-01,  1.24253154e-01, -1.82938591e-01,\n",
       "        -2.97127664e-02,  1.57437563e-01, -4.56463397e-02,\n",
       "         7.69910514e-02, -1.63990945e-01,  5.13704419e-02,\n",
       "         8.62949789e-02,  2.11186439e-01, -1.00269161e-01,\n",
       "        -1.50787532e-01,  1.76536947e-01, -3.02592069e-02,\n",
       "        -8.22088569e-02,  1.61989063e-01,  3.42310220e-02,\n",
       "        -6.85941130e-02,  9.85606909e-02, -1.30296230e-01,\n",
       "        -8.79335403e-03, -9.98313725e-03, -9.85857472e-02,\n",
       "         4.54087853e-02,  1.85000449e-02,  1.80976212e-01,\n",
       "         5.90589941e-02,  3.68139148e-03,  7.45506585e-02,\n",
       "         7.36737549e-02,  1.45030171e-02, -1.11677945e-02,\n",
       "        -1.29824877e-01,  1.44824982e-01,  1.94657445e-02,\n",
       "        -2.03734636e-02,  1.06851786e-01,  1.37078434e-01,\n",
       "         1.98158652e-01,  2.04738975e-01,  1.06099278e-01,\n",
       "         2.34542638e-02,  1.29835218e-01,  1.96020871e-01,\n",
       "         6.54963851e-02,  1.96082652e-01,  6.84473217e-02,\n",
       "         1.61329687e-01,  1.49466813e-01,  6.91983402e-02,\n",
       "        -4.91219908e-02, -2.61897147e-02, -2.74044573e-02,\n",
       "        -2.32436508e-02, -1.74298361e-01],\n",
       "       [-2.00265571e-01,  2.41579115e-02, -2.06303477e-01,\n",
       "         7.19418526e-02, -1.16751522e-01,  6.57874644e-02,\n",
       "         4.52738404e-02, -1.59426495e-01,  1.67529225e-01,\n",
       "        -7.29291141e-03, -1.25418484e-01,  2.09917456e-01,\n",
       "         9.23848450e-02, -4.46538031e-02, -8.18662345e-02,\n",
       "         1.05964988e-01, -1.47938550e-01, -6.86421692e-02,\n",
       "         1.98682427e-01,  9.02947783e-02, -1.94156975e-01,\n",
       "         1.89467609e-01, -1.51516542e-01,  9.47479904e-02,\n",
       "         7.07288086e-03, -1.48347825e-01,  1.38473809e-02,\n",
       "        -6.75927103e-03,  2.08392560e-01,  5.46712875e-02,\n",
       "        -4.34196144e-02,  1.30270302e-01,  1.50425464e-01,\n",
       "         7.93741047e-02, -5.87545931e-02, -1.17297061e-01,\n",
       "         4.49050367e-02, -2.08195120e-01, -1.17931426e-01,\n",
       "         3.32624465e-02, -1.87830821e-01, -2.04075947e-01,\n",
       "        -1.27047211e-01,  1.70975655e-01, -2.06832767e-01,\n",
       "        -2.91302055e-02,  1.93865389e-01,  1.86305463e-01,\n",
       "        -7.97723979e-02, -5.68903983e-02,  9.84197557e-02,\n",
       "        -3.92442346e-02,  1.86294407e-01, -1.15067355e-01,\n",
       "         8.31907094e-02,  1.59948587e-01, -1.23905391e-02,\n",
       "         1.32531017e-01, -1.87472761e-01,  8.42185915e-02,\n",
       "        -2.43409127e-02,  1.13445014e-01,  4.83346879e-02,\n",
       "         1.29040897e-01, -1.82135701e-01,  1.28664881e-01,\n",
       "         4.20758128e-02,  1.65617168e-01,  1.81261420e-01,\n",
       "         1.82979822e-01, -9.94619131e-02,  4.15854454e-02,\n",
       "        -1.68462545e-02,  1.64228857e-01, -7.55734146e-02,\n",
       "        -3.90297323e-02,  2.42652595e-02, -2.27045417e-02,\n",
       "        -1.75590128e-01,  1.61235332e-02,  2.42383778e-02,\n",
       "        -1.69226468e-01, -1.28823489e-01, -7.25589395e-02,\n",
       "        -1.83059365e-01, -7.94239938e-02, -1.12737730e-01,\n",
       "        -3.76701057e-02, -1.02916338e-01, -1.07868537e-01,\n",
       "         1.48743629e-01,  1.03039145e-01, -3.58146280e-02,\n",
       "        -1.90265372e-01,  5.28614819e-02,  2.16367841e-03,\n",
       "         8.85775387e-02, -1.77254096e-01,  1.38080716e-01,\n",
       "        -1.27905458e-02, -1.92315921e-01,  1.50312781e-01,\n",
       "        -1.90551683e-01, -2.16728747e-02, -1.43130630e-01,\n",
       "        -5.06887734e-02, -1.68942168e-01,  1.77597582e-01,\n",
       "         1.71460271e-01,  3.69885564e-02, -1.28081262e-01,\n",
       "        -1.60947800e-01, -3.27273905e-02, -1.58113360e-01,\n",
       "        -1.56138763e-01,  1.22247547e-01, -1.27623796e-01,\n",
       "         1.43133312e-01,  8.38282108e-02,  1.58877105e-01,\n",
       "         1.90856785e-01,  1.82693750e-01,  1.74647331e-01,\n",
       "         4.01485562e-02,  9.84681547e-02,  1.75718009e-01,\n",
       "        -1.01460658e-01, -1.48350909e-01],\n",
       "       [ 1.17417336e-01, -1.50456965e-01,  5.32416105e-02,\n",
       "         2.04911500e-01,  4.03302014e-02, -1.47416562e-01,\n",
       "         9.89152193e-02,  1.63372338e-01,  2.73128450e-02,\n",
       "         1.42276704e-01, -3.73973101e-02, -3.20773274e-02,\n",
       "        -1.70846730e-02, -1.24478661e-01, -1.29244447e-01,\n",
       "         7.06057847e-02,  3.21438164e-02,  1.14776284e-01,\n",
       "        -2.88327038e-03,  1.97366774e-01, -3.83979976e-02,\n",
       "         2.25362778e-02,  8.83426666e-02, -1.36781946e-01,\n",
       "        -1.51044369e-01,  7.51622021e-03, -2.07038507e-01,\n",
       "         8.66456628e-02,  5.63660860e-02, -1.72710508e-01,\n",
       "         6.04921877e-02, -1.13840699e-02,  1.09490007e-01,\n",
       "         1.12674087e-01, -1.20231017e-01, -1.33148313e-01,\n",
       "        -4.84982580e-02,  1.76080376e-01,  2.05756962e-01,\n",
       "        -2.11078793e-01, -3.20239514e-02, -4.08003479e-02,\n",
       "         8.06922615e-02, -1.85201019e-01,  1.21746719e-01,\n",
       "         1.06054276e-01, -4.33780998e-02,  5.92536628e-02,\n",
       "        -1.40243262e-01,  1.16205364e-01,  2.85850465e-03,\n",
       "         5.25555611e-02, -3.45982164e-02, -9.89867598e-02,\n",
       "         5.71204722e-02,  9.22771096e-02,  1.00790858e-01,\n",
       "         7.66639411e-02, -2.06951201e-01,  5.47772050e-02,\n",
       "         8.87287557e-02,  1.12235069e-01,  2.09451854e-01,\n",
       "        -4.68706042e-02,  9.14002955e-02, -1.47619471e-01,\n",
       "        -4.94555980e-02,  4.21097279e-02, -1.94679677e-01,\n",
       "        -4.26965356e-02,  1.19632453e-01, -1.86327040e-01,\n",
       "        -6.03611320e-02,  1.06652975e-02,  4.24202383e-02,\n",
       "        -1.82909623e-01,  3.22540104e-02,  1.01006120e-01,\n",
       "        -1.84572682e-01,  2.07919627e-01, -2.96494365e-03,\n",
       "         6.90704882e-02,  1.59485191e-01, -4.69376594e-02,\n",
       "         5.22547066e-02,  1.32683247e-01, -1.48339063e-01,\n",
       "        -5.51688671e-02,  1.79590136e-01,  1.80809647e-01,\n",
       "        -1.70704380e-01,  1.60729915e-01, -1.25100061e-01,\n",
       "        -1.20344803e-01,  1.83060169e-01, -9.12351906e-03,\n",
       "        -4.43561524e-02, -1.90847725e-01,  1.62917733e-01,\n",
       "        -9.73900482e-02, -4.27638441e-02, -9.42064896e-02,\n",
       "         1.21159583e-01,  1.65776879e-01,  2.58485526e-02,\n",
       "         1.82325453e-01, -2.74353921e-02,  1.10757321e-01,\n",
       "         1.64523274e-01, -9.16753709e-02, -1.71205804e-01,\n",
       "         2.02333540e-01, -4.25385386e-02,  8.61519575e-02,\n",
       "        -1.57867253e-01, -1.94867954e-01,  1.28502339e-01,\n",
       "        -2.16099620e-03, -1.39457345e-01,  3.85201871e-02,\n",
       "         1.32475019e-01, -5.10534346e-02, -1.21960662e-01,\n",
       "         6.93838298e-03,  1.53960645e-01,  1.61076516e-01,\n",
       "        -1.34297371e-01, -3.87658477e-02]], dtype=float32)"
      ]
     },
     "execution_count": 95,
     "metadata": {},
     "output_type": "execute_result"
    }
   ],
   "source": [
    "pos_emb.eval(session=sess)"
   ]
  },
  {
   "cell_type": "code",
   "execution_count": 80,
   "id": "c7806919-3e09-4e19-a3ef-42705ec6e106",
   "metadata": {},
   "outputs": [],
   "source": [
    "embedding_layer = keras_nlp.layers.TokenAndPositionEmbedding(\n",
    "                vocabulary_size=10,\n",
    "                sequence_length = 5,\n",
    "                embedding_dim=128,\n",
    "            )"
   ]
  },
  {
   "cell_type": "code",
   "execution_count": 84,
   "id": "2f3e8f81-3349-46c0-b750-ec35cbbe35f0",
   "metadata": {},
   "outputs": [],
   "source": [
    "sess = tf.compat.v1.Session()\n",
    "init_op = tf.compat.v1.global_variables_initializer()\n",
    "sess.run(init_op)"
   ]
  },
  {
   "cell_type": "code",
   "execution_count": 85,
   "id": "a027b1a7-c912-4b79-bf5e-fb6aba44d42a",
   "metadata": {},
   "outputs": [],
   "source": [
    "\n",
    "nlp_ = embedding_layer(X).eval(session=sess)"
   ]
  },
  {
   "cell_type": "code",
   "execution_count": 98,
   "id": "1ded8f42-3c4c-4cff-88fc-a15c2a7c383a",
   "metadata": {
    "scrolled": true,
    "tags": []
   },
   "outputs": [
    {
     "data": {
      "text/plain": [
       "(1, 5, 128)"
      ]
     },
     "execution_count": 98,
     "metadata": {},
     "output_type": "execute_result"
    }
   ],
   "source": [
    "nlp_.shape"
   ]
  },
  {
   "cell_type": "code",
   "execution_count": 106,
   "id": "e56e35f8-ac5b-4d85-a06f-b58bc51629e1",
   "metadata": {
    "scrolled": true,
    "tags": []
   },
   "outputs": [],
   "source": [
    "encoder_test = keras_nlp.layers.TransformerEncoder(\n",
    "    128,\n",
    "    1,\n",
    "    dropout=0,\n",
    "    activation=\"relu\",\n",
    "    layer_norm_epsilon=1e-05,\n",
    "    kernel_initializer=\"glorot_uniform\",\n",
    "    bias_initializer=\"zeros\",\n",
    "    name=None,\n",
    "  \n",
    ")\n",
    "\n",
    "encoded_test = encoder.call(nlp_, padding_mask=None, attention_mask=None)\n",
    "enc_test = encoded_test.eval(session=sess)"
   ]
  },
  {
   "cell_type": "code",
   "execution_count": 114,
   "id": "d8958419-fba1-4bee-9def-412a8defaddf",
   "metadata": {},
   "outputs": [],
   "source": [
    "enc_test = tf.reshape(enc_test, shape=(5,128))\n",
    "enc_test = enc_test.eval(session=sess)"
   ]
  },
  {
   "cell_type": "code",
   "execution_count": 104,
   "id": "4f51a865-faea-4ea2-b768-a77cabbde6f1",
   "metadata": {},
   "outputs": [],
   "source": [
    "sess = tf.compat.v1.Session()\n",
    "init_op = tf.compat.v1.global_variables_initializer()\n",
    "sess.run(init_op)\n",
    "t_out = res_final.eval(session=sess, feed_dict={holder:X})"
   ]
  },
  {
   "cell_type": "code",
   "execution_count": 110,
   "id": "5c949f45-261e-478c-8a9a-a9f2fd2672d9",
   "metadata": {
    "scrolled": true,
    "tags": []
   },
   "outputs": [
    {
     "data": {
      "text/plain": [
       "(5, 128)"
      ]
     },
     "execution_count": 110,
     "metadata": {},
     "output_type": "execute_result"
    }
   ],
   "source": [
    "t_out.shape"
   ]
  },
  {
   "cell_type": "code",
   "execution_count": 115,
   "id": "899c425e-b415-4b1f-b2b3-82aca97648f9",
   "metadata": {},
   "outputs": [
    {
     "name": "stdout",
     "output_type": "stream",
     "text": [
      "[-0.13072956  0.02225156 -0.04623551 -0.12170649 -0.08348311]\n"
     ]
    }
   ],
   "source": [
    "consine_sim_tensor = tf.keras.losses.cosine_similarity(t_out, enc_test, axis=1)\n",
    "print(consine_sim_tensor.eval(session=sess))"
   ]
  },
  {
   "cell_type": "code",
   "execution_count": null,
   "id": "9c8f8c4c-1130-4a3f-8199-948fd0890ff3",
   "metadata": {},
   "outputs": [],
   "source": []
  }
 ],
 "metadata": {
  "kernelspec": {
   "display_name": "Transformers Kernel",
   "language": "python",
   "name": "transformers"
  },
  "language_info": {
   "codemirror_mode": {
    "name": "ipython",
    "version": 3
   },
   "file_extension": ".py",
   "mimetype": "text/x-python",
   "name": "python",
   "nbconvert_exporter": "python",
   "pygments_lexer": "ipython3",
   "version": "3.8.6"
  }
 },
 "nbformat": 4,
 "nbformat_minor": 5
}
